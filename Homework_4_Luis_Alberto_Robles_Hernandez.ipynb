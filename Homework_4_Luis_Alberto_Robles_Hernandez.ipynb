{
  "nbformat": 4,
  "nbformat_minor": 0,
  "metadata": {
    "colab": {
      "name": "Homework 4 - Luis Alberto Robles Hernandez.ipynb",
      "provenance": [],
      "collapsed_sections": [],
      "machine_shape": "hm",
      "authorship_tag": "ABX9TyNGazDPz03PsL08QbltZuAp",
      "include_colab_link": true
    },
    "kernelspec": {
      "name": "python3",
      "display_name": "Python 3"
    },
    "language_info": {
      "name": "python"
    },
    "accelerator": "GPU"
  },
  "cells": [
    {
      "cell_type": "markdown",
      "metadata": {
        "id": "view-in-github",
        "colab_type": "text"
      },
      "source": [
        "<a href=\"https://colab.research.google.com/github/LuisRobles18/NLP/blob/main/Homework_4_Luis_Alberto_Robles_Hernandez.ipynb\" target=\"_parent\"><img src=\"https://colab.research.google.com/assets/colab-badge.svg\" alt=\"Open In Colab\"/></a>"
      ]
    },
    {
      "cell_type": "markdown",
      "metadata": {
        "id": "uxASAXC41ZUY"
      },
      "source": [
        "#**Homework 4**\n",
        "**Student ID:** 002581393 **Name:** Luis Alberto Robles Hernandez\n",
        "\n",
        "**Github repository:** https://github.com/LuisRobles18/NLP/blob/main/Homework_4_Luis_Alberto_Robles_Hernandez.ipynb"
      ]
    },
    {
      "cell_type": "markdown",
      "metadata": {
        "id": "3ji1Iwso2C9m"
      },
      "source": [
        "##**INSTRUCTIONS**\n",
        "\n",
        "Questions **(130 total points)**\n",
        "\n",
        "**NOTE:** You can only use Python’s built-in regular functions, scikit-learn/tensorflow/keras as your ML library for these exercises, NLTK as your NLP library. Any code using any other ML or NLP libraries will not be graded. Note: You can use pandas and/or numpy as these are NOT machine learning libraries.\n",
        "\n",
        "###**REQUIREMENTS**\n",
        "\n",
        "**NOTE: Please run this Colab Notebook using the GPU.**\n",
        "\n",
        "Using the Sentiment140 dataset (http://help.sentiment140.com/for-students/). The homework was tested and designed using the Stanford link for the zip file. Write the following pieces of code (use a **random seed of 2361**). **NOTE: Please READ all the instructions for the Dataset**:"
      ]
    },
    {
      "cell_type": "markdown",
      "metadata": {
        "id": "KZXaDYRfIVa7"
      },
      "source": [
        "**Requirement for Exercise 4**"
      ]
    },
    {
      "cell_type": "code",
      "metadata": {
        "id": "MWkKNhkMIVwb"
      },
      "source": [
        "# keras.datasets.imdb is broken in TensorFlow 1.13 and 1.14 due to numpy 1.16.3\n",
        "!pip install numpy==1.16.2"
      ],
      "execution_count": null,
      "outputs": []
    },
    {
      "cell_type": "markdown",
      "metadata": {
        "id": "2d4Y_s4VIXs9"
      },
      "source": [
        "**Obtaining the dataset**"
      ]
    },
    {
      "cell_type": "code",
      "metadata": {
        "id": "h0s7fyVT1Tv_"
      },
      "source": [
        "from IPython.display import clear_output\n",
        "import zipfile\n",
        "import pandas as pd\n",
        "import re\n",
        "\n",
        "#Downloading the Sentiment140 dataset from the Stanford link\n",
        "!wget http://cs.stanford.edu/people/alecmgo/trainingandtestdata.zip -O sentiment140.zip\n",
        "clear_output()\n",
        "\n",
        "#The data is a CSV with emoticons removed. Data file format has 6 fields:\n",
        "#0 - the polarity of the tweet (0 = negative, 2 = neutral, 4 = positive)\n",
        "#1 - the id of the tweet (2087)\n",
        "#2 - the date of the tweet (Sat May 16 23:58:44 UTC 2009)\n",
        "#3 - the query (lyx). If there is no query, then this value is NO_QUERY.\n",
        "#4 - the user that tweeted (robotickilldozr)\n",
        "#5 - the text of the tweet (Lyx is cool)\n",
        "\n",
        "#Obtaining the ZIP file\n",
        "my_zip = zipfile.ZipFile('sentiment140.zip')\n",
        "storage_path = '.'\n",
        "#There will be a list with the document names which will be used when showing the matrix\n",
        "documents_name = []\n",
        "#Each txt file inside the ZIP file will be stored in a list\n",
        "documents = []\n",
        "for file in my_zip.namelist():\n",
        "    #The ZIP file contains two files, we will use the largest one\n",
        "    if my_zip.getinfo(file).filename.startswith('training'):\n",
        "        my_zip.extract(file, storage_path)\n",
        "        df_data = pd.read_csv(my_zip.getinfo(file).filename, encoding='latin-1',\n",
        "                              names=['Polarity', 'Id', 'Date', 'Query', 'User', 'Text'])"
      ],
      "execution_count": 1,
      "outputs": []
    },
    {
      "cell_type": "markdown",
      "metadata": {
        "id": "p_8ZNWZH9qn4"
      },
      "source": [
        "**NOTE:** In order to optimize the memory usage, the **Id**, **Date**, **Query** and **User** columns will be deleted, since it is not needed for the following exercises."
      ]
    },
    {
      "cell_type": "code",
      "metadata": {
        "id": "rW7aR9O88W9M"
      },
      "source": [
        "df_data = df_data.drop(['Id','Date','Query','User'], axis = 1)"
      ],
      "execution_count": 2,
      "outputs": []
    },
    {
      "cell_type": "markdown",
      "metadata": {
        "id": "p95hZSjF2nkC"
      },
      "source": [
        "##**EXERCISE 1**\n",
        "\n",
        "**1. (15 points)** Take the **positive** and the **negative** tweets only. Use Sklearn to split the dataset in 80% training, 20% testing splits. Provide a nicely formatted summary of these splits, containing their size) "
      ]
    },
    {
      "cell_type": "code",
      "metadata": {
        "colab": {
          "base_uri": "https://localhost:8080/",
          "height": 142
        },
        "id": "FfntMLDh2vg2",
        "outputId": "9ffcf832-a8ce-4a34-9bc2-74a4e5ebb6a9"
      },
      "source": [
        "import numpy as np\n",
        "from sklearn.model_selection import train_test_split\n",
        "import random\n",
        "\n",
        "#Filtering out neutral rows (Polarity = 2)\n",
        "df_data = df_data[~df_data['Polarity'].isin([2])]\n",
        "df_data.reset_index(drop=True, inplace=True)\n",
        "\n",
        "#Positive polarity will be considered as 1\n",
        "df_data.loc[df_data.Polarity == 4, \"Polarity\"] = 1\n",
        "\n",
        "#Setting random seed to 2361\n",
        "random.seed(2361)\n",
        "np.random.seed(2361)\n",
        "\n",
        "list_data = list(df_data['Text'])\n",
        "list_target = list(df_data['Polarity'])\n",
        "\n",
        "training_data, test_data, training_target, test_target = train_test_split(\n",
        "    list_data, list_target, test_size=0.20, random_state = 2361)\n",
        "\n",
        "df_summary_split = pd.DataFrame(columns=['Split group','Percentage', 'Positive Tweets', 'Negative Tweets', 'Size (Tweets)'])\n",
        "df_summary_split.loc[len(df_summary_split), :] = ['Training Data','80%', training_target.count(1), \n",
        "                                                  training_target.count(0), len(training_data)]\n",
        "df_summary_split.loc[len(df_summary_split), :] = ['Testing Data','20%', test_target.count(1), \n",
        "                                                  test_target.count(0), len(test_data)]\n",
        "df_summary_split.loc[len(df_summary_split), :] = ['All (Total)', '100%', test_target.count(1)+training_target.count(1), \n",
        "                                                  test_target.count(0)+training_target.count(0), len(list_data)]\n",
        "df_summary_split['Size (Tweets)'] = df_summary_split['Size (Tweets)'].apply(lambda x: \"{:,}\".format(x))\n",
        "df_summary_split['Positive Tweets'] = df_summary_split['Positive Tweets'].apply(lambda x: \"{:,}\".format(x))\n",
        "df_summary_split['Negative Tweets'] = df_summary_split['Negative Tweets'].apply(lambda x: \"{:,}\".format(x))\n",
        "df_summary_split"
      ],
      "execution_count": 3,
      "outputs": [
        {
          "output_type": "execute_result",
          "data": {
            "text/html": [
              "<div>\n",
              "<style scoped>\n",
              "    .dataframe tbody tr th:only-of-type {\n",
              "        vertical-align: middle;\n",
              "    }\n",
              "\n",
              "    .dataframe tbody tr th {\n",
              "        vertical-align: top;\n",
              "    }\n",
              "\n",
              "    .dataframe thead th {\n",
              "        text-align: right;\n",
              "    }\n",
              "</style>\n",
              "<table border=\"1\" class=\"dataframe\">\n",
              "  <thead>\n",
              "    <tr style=\"text-align: right;\">\n",
              "      <th></th>\n",
              "      <th>Split group</th>\n",
              "      <th>Percentage</th>\n",
              "      <th>Positive Tweets</th>\n",
              "      <th>Negative Tweets</th>\n",
              "      <th>Size (Tweets)</th>\n",
              "    </tr>\n",
              "  </thead>\n",
              "  <tbody>\n",
              "    <tr>\n",
              "      <th>0</th>\n",
              "      <td>Training Data</td>\n",
              "      <td>80%</td>\n",
              "      <td>639,998</td>\n",
              "      <td>640,002</td>\n",
              "      <td>1,280,000</td>\n",
              "    </tr>\n",
              "    <tr>\n",
              "      <th>1</th>\n",
              "      <td>Testing Data</td>\n",
              "      <td>20%</td>\n",
              "      <td>160,002</td>\n",
              "      <td>159,998</td>\n",
              "      <td>320,000</td>\n",
              "    </tr>\n",
              "    <tr>\n",
              "      <th>2</th>\n",
              "      <td>All (Total)</td>\n",
              "      <td>100%</td>\n",
              "      <td>800,000</td>\n",
              "      <td>800,000</td>\n",
              "      <td>1,600,000</td>\n",
              "    </tr>\n",
              "  </tbody>\n",
              "</table>\n",
              "</div>"
            ],
            "text/plain": [
              "     Split group Percentage Positive Tweets Negative Tweets Size (Tweets)\n",
              "0  Training Data        80%         639,998         640,002     1,280,000\n",
              "1   Testing Data        20%         160,002         159,998       320,000\n",
              "2    All (Total)       100%         800,000         800,000     1,600,000"
            ]
          },
          "metadata": {
            "tags": []
          },
          "execution_count": 3
        }
      ]
    },
    {
      "cell_type": "markdown",
      "metadata": {
        "id": "hKnVUoue2vv6"
      },
      "source": [
        "##**EXERCISE 2**\n",
        "\n",
        "**2. (15 points)** Use the code from the previous classes to build the following models (15 points):\n",
        "\n",
        "*   A) **SVM** using **TF-IDF**.\n",
        "*   B) **Naive Bayes** using **TF-IDF**.\n",
        "*   C) **Random Forest** using **TF-IDF**."
      ]
    },
    {
      "cell_type": "code",
      "metadata": {
        "colab": {
          "base_uri": "https://localhost:8080/"
        },
        "id": "9_i40NEz3DjU",
        "outputId": "c7e15f63-6a64-414a-9883-44c11696e572"
      },
      "source": [
        "from sklearn.feature_extraction.text import TfidfVectorizer\n",
        "from sklearn.naive_bayes import MultinomialNB\n",
        "from sklearn.svm import LinearSVC\n",
        "from sklearn.ensemble import RandomForestClassifier, BaggingClassifier\n",
        "from sklearn.multiclass import OneVsRestClassifier\n",
        "from sklearn.pipeline import make_pipeline\n",
        "\n",
        "#================ MODEL A (SVM with TF IDF) ===================\n",
        "print(\"Building SVM Model using TF-IDF...\")\n",
        "#Model = SVM (TF-IDF)\n",
        "#% of Training = 80%\n",
        "#% of Testing = 20%\n",
        "\n",
        "#NOTE: According to the sklearn documentation, LinearSVC is\n",
        "#similar to SVC with parameter kernel='linear', and it has\n",
        "#more flexibility in loss functions and should scale better\n",
        "#to large number of samples.\n",
        "model_a = make_pipeline(TfidfVectorizer(), LinearSVC())\n",
        "model_a.fit(training_data, training_target)\n",
        "\n",
        "#================ MODEL B (NB with TF IDF) ===================\n",
        "print(\"Building Multinomial NB Model using TF-IDF...\")\n",
        "#Model = Multinomial NB (TF-IDF)\n",
        "#% of Training = 80%\n",
        "#% of Testing = 20%\n",
        "model_b = make_pipeline(TfidfVectorizer(), MultinomialNB())\n",
        "model_b.fit(training_data, training_target)\n",
        "\n",
        "#=========== MODEL C (Random Forest with TF IDF) ==============\n",
        "print(\"Building Random Forest Model using TF-IDF...\")\n",
        "#Model = Random Forest (TF-IDF)\n",
        "#% of Training = 80%\n",
        "#% of Testing = 20%\n",
        "\n",
        "#NOTE: According to the sklearn documentation, n_jobs=-1\n",
        "#means that it will use all the processors available, and\n",
        "#should run faster. Also, since this process takes too long\n",
        "#for a very large sample, an additional solution is by\n",
        "#specifying the max_depth parameter.\n",
        "#With a max_depth of 50, the process takes around 5 minutes\n",
        "model_c = make_pipeline(TfidfVectorizer(), RandomForestClassifier(n_jobs=-1, max_depth=50))\n",
        "model_c.fit(training_data, training_target)\n",
        "\n",
        "print(\"Done!\")"
      ],
      "execution_count": 4,
      "outputs": [
        {
          "output_type": "stream",
          "text": [
            "Building SVM Model using TF-IDF...\n",
            "Building Multinomial NB Model using TF-IDF...\n",
            "Building Random Forest Model using TF-IDF...\n",
            "Done!\n"
          ],
          "name": "stdout"
        }
      ]
    },
    {
      "cell_type": "markdown",
      "metadata": {
        "id": "ALdEF9Ni3DpI"
      },
      "source": [
        "##**EXERCISE 3**\n",
        "\n",
        "**3. (40 points)** Use the code from the LSTM class to build a classifier for negative and positive sentiment tweets. Train the model with the training data split. Once the model is built, test it with the testing data split. Display the classifier report for this evaluation."
      ]
    },
    {
      "cell_type": "markdown",
      "metadata": {
        "id": "Nlf54-PRBNEs"
      },
      "source": [
        "###**Data insight and pre-processing**"
      ]
    },
    {
      "cell_type": "code",
      "metadata": {
        "id": "csrC1HmZIiCz",
        "colab": {
          "base_uri": "https://localhost:8080/"
        },
        "outputId": "ecbe44b3-62d9-4f8b-b9de-071ec84f2d02"
      },
      "source": [
        "import tensorflow as tf \n",
        "import numpy as np\n",
        "from tensorflow.keras.preprocessing import sequence\n",
        "from numpy import array\n",
        "from keras.preprocessing.text import Tokenizer\n",
        "\n",
        "# Supress deprecation warnings\n",
        "import logging\n",
        "logging.getLogger('tensorflow').disabled = True\n",
        "\n",
        "# Concatonate test and training datasets\n",
        "alltweets = np.concatenate((training_data, test_data), axis=0)\n",
        "\n",
        "# Tweet lengths across test and training whole datasets\n",
        "print(\"Maximum tweet length: {}\".format(len(max((alltweets), key=len))))\n",
        "print(\"Minimum tweet length: {}\".format(len(min((alltweets), key=len))))\n",
        "result = [len(x) for x in alltweets]\n",
        "print(\"Mean tweet length: {}\".format(np.mean(result)))\n",
        "\n",
        "# The length of tweets\n",
        "tweet_length = 150\n",
        "\n",
        "tokenizer = Tokenizer(num_words=tweet_length, lower=True)\n",
        "tokenizer.fit_on_texts(np.array(df_data['Text']))\n",
        "x_train = tokenizer.texts_to_sequences(np.array(training_data))\n",
        "x_train = sequence.pad_sequences(x_train, maxlen=tweet_length)\n",
        "\n",
        "x_test = tokenizer.texts_to_sequences(np.array(test_data))\n",
        "x_test = sequence.pad_sequences(x_test, maxlen=tweet_length)\n",
        "\n",
        "y_train = np.array(training_target)\n",
        "y_test = np.array(test_target)\n",
        "\n",
        "print(\"\")\n",
        "print(\"Shape Training Tweet Data: \" + str(x_train.shape))\n",
        "print(\"Shape Training Class Data: \" + str(y_train.shape))\n",
        "print(\"Shape Test Tweet Data: \" + str(x_test.shape))\n",
        "print(\"Shape Test Class Data: \" + str(y_test.shape))"
      ],
      "execution_count": 25,
      "outputs": [
        {
          "output_type": "stream",
          "text": [
            "Maximum tweet length: 374\n",
            "Minimum tweet length: 6\n",
            "Mean tweet length: 74.09011125\n",
            "\n",
            "Shape Training Tweet Data: (1280000, 150)\n",
            "Shape Training Class Data: (1280000,)\n",
            "Shape Test Tweet Data: (320000, 150)\n",
            "Shape Test Class Data: (320000,)\n"
          ],
          "name": "stdout"
        }
      ]
    },
    {
      "cell_type": "markdown",
      "metadata": {
        "id": "0xoRZnWtBTjY"
      },
      "source": [
        "###**Creating and building LSTM Recurrent Neural Network**"
      ]
    },
    {
      "cell_type": "code",
      "metadata": {
        "colab": {
          "base_uri": "https://localhost:8080/"
        },
        "id": "GhxfKwqULlLq",
        "outputId": "aa99b8e9-a60c-4e19-9683-cf4a9b8545ad"
      },
      "source": [
        "model = tf.keras.models.Sequential()\n",
        "\n",
        "# The Embedding Layer provides a spatial mapping (or Word Embedding) of all the \n",
        "# individual words in our training set. Words close to one another share context \n",
        "# and or meaning. This spatial mapping is learning during the training process.\n",
        "model.add(\n",
        "    tf.keras.layers.Embedding(\n",
        "        input_dim = 10000, # The size of our vocabulary \n",
        "        output_dim = 32, # Dimensions to which each words shall be mapped\n",
        "        input_length = tweet_length # Length of input sequences\n",
        "    )\n",
        ")\n",
        "\n",
        "# Dropout layers fight overfitting and forces the model to learn multiple \n",
        "# representations of the same data by randomly disabling neurons in the \n",
        "# learning phase.\n",
        "model.add(\n",
        "    tf.keras.layers.Dropout(\n",
        "        rate=0.10 # Randomly disable 25% of neurons\n",
        "    )\n",
        ")\n",
        "\n",
        "# We are using a fast version of LSTM which is optimised for GPUs. This layer \n",
        "# looks at the sequence of words in the tweet, along with their word embeddings\n",
        "# and uses both of these to determine to sentiment of a given tweet.\n",
        "model.add(\n",
        "    tf.keras.layers.LSTM(\n",
        "        units=128 # 128 LSTM units in this layer\n",
        "    )\n",
        ")\n",
        "\n",
        "# Add a second dropout layer with the same aim as the first.\n",
        "model.add(\n",
        "    tf.keras.layers.Dropout(\n",
        "        rate=0.10 # Randomly disable 25% of neurons\n",
        "    )\n",
        ")\n",
        "\n",
        "# All LSTM units are connected to a single node in the dense layer. A sigmoid \n",
        "# activation function determines the output from this node - a value \n",
        "# between 0 and 1. Closer to 0 indicates a negative tweet. Closer to 1 \n",
        "# indicates a positive tweet.\n",
        "model.add(\n",
        "    tf.keras.layers.Dense(\n",
        "        units=1, # Single unit\n",
        "        activation='sigmoid' # Sigmoid activation function (output from 0 to 1)\n",
        "    )\n",
        ")\n",
        "\n",
        "# Compile the model\n",
        "model.compile(\n",
        "    loss=tf.keras.losses.binary_crossentropy, # loss function\n",
        "    optimizer=tf.keras.optimizers.Adam(), # optimiser function\n",
        "    metrics=['accuracy']) # reporting metric\n",
        "\n",
        "# Display a summary of the models structure\n",
        "model.summary()"
      ],
      "execution_count": 26,
      "outputs": [
        {
          "output_type": "stream",
          "text": [
            "Model: \"sequential_3\"\n",
            "_________________________________________________________________\n",
            "Layer (type)                 Output Shape              Param #   \n",
            "=================================================================\n",
            "embedding_3 (Embedding)      (None, 150, 32)           320000    \n",
            "_________________________________________________________________\n",
            "dropout_6 (Dropout)          (None, 150, 32)           0         \n",
            "_________________________________________________________________\n",
            "lstm_3 (LSTM)                (None, 128)               82432     \n",
            "_________________________________________________________________\n",
            "dropout_7 (Dropout)          (None, 128)               0         \n",
            "_________________________________________________________________\n",
            "dense_3 (Dense)              (None, 1)                 129       \n",
            "=================================================================\n",
            "Total params: 402,561\n",
            "Trainable params: 402,561\n",
            "Non-trainable params: 0\n",
            "_________________________________________________________________\n"
          ],
          "name": "stdout"
        }
      ]
    },
    {
      "cell_type": "markdown",
      "metadata": {
        "id": "1_n5nQpPBb8X"
      },
      "source": [
        "###**Visualizing the Model**"
      ]
    },
    {
      "cell_type": "code",
      "metadata": {
        "colab": {
          "base_uri": "https://localhost:8080/",
          "height": 644
        },
        "id": "4nJzu6K8BcAm",
        "outputId": "4b65816c-7e9a-4191-dc19-dcd13bcb6957"
      },
      "source": [
        "tf.keras.utils.plot_model(model, to_file='model.png', show_shapes=True, show_layer_names=False)"
      ],
      "execution_count": 27,
      "outputs": [
        {
          "output_type": "execute_result",
          "data": {
            "image/png": "[encoded data removed]",
            "text/plain": [
              "<IPython.core.display.Image object>"
            ]
          },
          "metadata": {
            "tags": []
          },
          "execution_count": 27
        }
      ]
    },
    {
      "cell_type": "markdown",
      "metadata": {
        "id": "XbxaCGRpBiKH"
      },
      "source": [
        "###**Training the LSTM**"
      ]
    },
    {
      "cell_type": "code",
      "metadata": {
        "colab": {
          "base_uri": "https://localhost:8080/"
        },
        "id": "NuIZbTk3MIN8",
        "outputId": "d7ad0646-3d6a-4746-c3b8-a7c689ae7b54"
      },
      "source": [
        "# Train the LSTM on the training data\n",
        "history = model.fit(x_train, y_train, batch_size=512, epochs=5,validation_split=0.15,verbose=1) "
      ],
      "execution_count": 28,
      "outputs": [
        {
          "output_type": "stream",
          "text": [
            "Epoch 1/5\n",
            "2125/2125 [==============================] - 46s 21ms/step - loss: 0.5904 - accuracy: 0.6802 - val_loss: 0.5619 - val_accuracy: 0.7036\n",
            "Epoch 2/5\n",
            "2125/2125 [==============================] - 44s 21ms/step - loss: 0.5624 - accuracy: 0.7047 - val_loss: 0.5575 - val_accuracy: 0.7072\n",
            "Epoch 3/5\n",
            "2125/2125 [==============================] - 44s 21ms/step - loss: 0.5574 - accuracy: 0.7082 - val_loss: 0.5525 - val_accuracy: 0.7109\n",
            "Epoch 4/5\n",
            "2125/2125 [==============================] - 44s 21ms/step - loss: 0.5525 - accuracy: 0.7116 - val_loss: 0.5483 - val_accuracy: 0.7148\n",
            "Epoch 5/5\n",
            "2125/2125 [==============================] - 44s 21ms/step - loss: 0.5494 - accuracy: 0.7144 - val_loss: 0.5450 - val_accuracy: 0.7171\n"
          ],
          "name": "stdout"
        }
      ]
    },
    {
      "cell_type": "markdown",
      "metadata": {
        "id": "bheyfx2QBujZ"
      },
      "source": [
        "###**Evaluating the model with the testing data split and showing the Classifier Report**"
      ]
    },
    {
      "cell_type": "code",
      "metadata": {
        "colab": {
          "base_uri": "https://localhost:8080/"
        },
        "id": "qsINqvQgUohW",
        "outputId": "8814333c-40f7-45c1-e5b6-339dcbbb41b9"
      },
      "source": [
        "import warnings\n",
        "warnings.filterwarnings(\"ignore\")\n",
        "\n",
        "# Get Model Predictions for test data\n",
        "from sklearn.metrics import classification_report\n",
        "predicted_classes = model.predict_classes(x_test)\n",
        "print(classification_report(y_test, predicted_classes, target_names=[\"Negative\",\"Positive\"]))"
      ],
      "execution_count": 29,
      "outputs": [
        {
          "output_type": "stream",
          "text": [
            "              precision    recall  f1-score   support\n",
            "\n",
            "    Negative       0.72      0.71      0.71    159998\n",
            "    Positive       0.71      0.73      0.72    160002\n",
            "\n",
            "    accuracy                           0.72    320000\n",
            "   macro avg       0.72      0.72      0.72    320000\n",
            "weighted avg       0.72      0.72      0.72    320000\n",
            "\n"
          ],
          "name": "stdout"
        }
      ]
    },
    {
      "cell_type": "markdown",
      "metadata": {
        "id": "F4gW-nWbB4_3"
      },
      "source": [
        "###**Answer the following question**"
      ]
    },
    {
      "cell_type": "markdown",
      "metadata": {
        "id": "BBAPQRXT3PWn"
      },
      "source": [
        "**What can you say about the performance of this model?** After looking at the performance results from this model, I can say the model didn't do a good job. Using the default parameters used from Class 19, I was getting around 60% of accuracy, but incrementing the LSTM units fort the layer to 128 and the batch size to 512, I was able to increase the accuracy to around 70%, which I think is still not good.\n",
        "\n",
        "Since we have large amount of data to train, around 1.6M tweets, I think the amount of data is not the problem but the quality of the data. We know that the dataset training already has emoticons removed, but this is not enough since we have more things I think it should be removed in order to reduce noise when training, such as URL's, user mentions, and hashtags for example."
      ]
    },
    {
      "cell_type": "markdown",
      "metadata": {
        "id": "EcRJqEYp3VgQ"
      },
      "source": [
        "##**EXERCISE 4**\n",
        "\n",
        "**4. (30 points)** Compare all models together in terms of Precision, Recall and F1 score. Put all of these numbers in a nicely formatted dataframe."
      ]
    },
    {
      "cell_type": "markdown",
      "metadata": {
        "id": "a_KLX4jhCG14"
      },
      "source": [
        "###**Calculating and displaying metrics from each model**"
      ]
    },
    {
      "cell_type": "code",
      "metadata": {
        "id": "j0cxnAVv3hFN",
        "colab": {
          "base_uri": "https://localhost:8080/",
          "height": 258
        },
        "outputId": "783d7ca5-d2b2-4dd8-c1ed-99c8c32af5d4"
      },
      "source": [
        "import sklearn\n",
        "\n",
        "df_metrics = pd.DataFrame(columns=['Model Name','Precision','Recall','Macro F1-Score'])\n",
        "\n",
        "\n",
        "print(\"Evaluating and getting metrics from SVM TF-IDF...\")\n",
        "#=========== SVM TF-IDF (METRICS) ==============\n",
        "model_a_labels = model_a.predict(test_data)\n",
        "model_a_precision = sklearn.metrics.precision_score(test_target,model_a_labels)\n",
        "model_a_recall = sklearn.metrics.recall_score(test_target,model_a_labels)\n",
        "model_a_f1 = sklearn.metrics.f1_score(model_a_labels, test_target, average='macro')\n",
        "\n",
        "model_a_metrics = ['Support Vector Machine (TF-IDF)',model_a_precision,model_a_recall,model_a_f1]\n",
        "\n",
        "print(\"Evaluating and getting metrics from NB TF-IDF...\")\n",
        "#=========== Naive Bayes TF-IDF (METRICS) ==============\n",
        "model_b_labels = model_b.predict(test_data)\n",
        "model_b_precision = sklearn.metrics.precision_score(test_target,model_b_labels)\n",
        "model_b_recall = sklearn.metrics.recall_score(test_target,model_b_labels)\n",
        "model_b_f1 = sklearn.metrics.f1_score(model_b_labels, test_target, average='macro')\n",
        "\n",
        "model_b_metrics = ['Multinomial NB (TF-IDF)',model_b_precision,model_b_recall,model_b_f1]\n",
        "\n",
        "print(\"Evaluating and getting metrics from Random Forest TF-IDF...\")\n",
        "#=========== Naive Bayes TF-IDF (METRICS) ==============\n",
        "model_c_labels = model_c.predict(test_data)\n",
        "model_c_precision = sklearn.metrics.precision_score(test_target,model_c_labels)\n",
        "model_c_recall = sklearn.metrics.recall_score(test_target,model_c_labels)\n",
        "model_c_f1 = sklearn.metrics.f1_score(model_c_labels, test_target, average='macro')\n",
        "\n",
        "model_c_metrics = ['Random Forest (TF-IDF)',model_c_precision,model_c_recall,model_c_f1]\n",
        "\n",
        "print(\"Evaluating and getting metrics from LSTM...\")\n",
        "#=========== LSTM (METRICS) ==============\n",
        "model_lstm_precision = sklearn.metrics.precision_score(y_test,predicted_classes)\n",
        "model_lstm_recall = sklearn.metrics.recall_score(y_test,predicted_classes)\n",
        "model_lstm_f1 = sklearn.metrics.f1_score(predicted_classes, y_test, average='macro')\n",
        "\n",
        "model_lstm_metrics = ['LSTM Model',model_lstm_precision,model_lstm_recall,model_lstm_f1]\n",
        "\n",
        "print(\"Done!\")\n",
        "\n",
        "df_metrics.loc[len(df_metrics), :] = model_a_metrics\n",
        "df_metrics.loc[len(df_metrics), :] = model_b_metrics\n",
        "df_metrics.loc[len(df_metrics), :] = model_c_metrics\n",
        "df_metrics.loc[len(df_metrics), :] = model_lstm_metrics\n",
        "\n",
        "df_metrics"
      ],
      "execution_count": 30,
      "outputs": [
        {
          "output_type": "stream",
          "text": [
            "Evaluating and getting metrics from SVM TF-IDF...\n",
            "Evaluating and getting metrics from NB TF-IDF...\n",
            "Evaluating and getting metrics from Random Forest TF-IDF...\n",
            "Evaluating and getting metrics from LSTM...\n",
            "Done!\n"
          ],
          "name": "stdout"
        },
        {
          "output_type": "execute_result",
          "data": {
            "text/html": [
              "<div>\n",
              "<style scoped>\n",
              "    .dataframe tbody tr th:only-of-type {\n",
              "        vertical-align: middle;\n",
              "    }\n",
              "\n",
              "    .dataframe tbody tr th {\n",
              "        vertical-align: top;\n",
              "    }\n",
              "\n",
              "    .dataframe thead th {\n",
              "        text-align: right;\n",
              "    }\n",
              "</style>\n",
              "<table border=\"1\" class=\"dataframe\">\n",
              "  <thead>\n",
              "    <tr style=\"text-align: right;\">\n",
              "      <th></th>\n",
              "      <th>Model Name</th>\n",
              "      <th>Precision</th>\n",
              "      <th>Recall</th>\n",
              "      <th>Macro F1-Score</th>\n",
              "    </tr>\n",
              "  </thead>\n",
              "  <tbody>\n",
              "    <tr>\n",
              "      <th>0</th>\n",
              "      <td>Support Vector Machine (TF-IDF)</td>\n",
              "      <td>0.793895</td>\n",
              "      <td>0.800609</td>\n",
              "      <td>0.796374</td>\n",
              "    </tr>\n",
              "    <tr>\n",
              "      <th>1</th>\n",
              "      <td>Multinomial NB (TF-IDF)</td>\n",
              "      <td>0.800344</td>\n",
              "      <td>0.728078</td>\n",
              "      <td>0.772759</td>\n",
              "    </tr>\n",
              "    <tr>\n",
              "      <th>2</th>\n",
              "      <td>Random Forest (TF-IDF)</td>\n",
              "      <td>0.756795</td>\n",
              "      <td>0.764822</td>\n",
              "      <td>0.759509</td>\n",
              "    </tr>\n",
              "    <tr>\n",
              "      <th>3</th>\n",
              "      <td>LSTM Model</td>\n",
              "      <td>0.712602</td>\n",
              "      <td>0.730622</td>\n",
              "      <td>0.71793</td>\n",
              "    </tr>\n",
              "  </tbody>\n",
              "</table>\n",
              "</div>"
            ],
            "text/plain": [
              "                        Model Name Precision    Recall Macro F1-Score\n",
              "0  Support Vector Machine (TF-IDF)  0.793895  0.800609       0.796374\n",
              "1          Multinomial NB (TF-IDF)  0.800344  0.728078       0.772759\n",
              "2           Random Forest (TF-IDF)  0.756795  0.764822       0.759509\n",
              "3                       LSTM Model  0.712602  0.730622        0.71793"
            ]
          },
          "metadata": {
            "tags": []
          },
          "execution_count": 30
        }
      ]
    },
    {
      "cell_type": "markdown",
      "metadata": {
        "id": "N8XDtYqkCNXf"
      },
      "source": [
        "###**Answer the following questions**"
      ]
    },
    {
      "cell_type": "markdown",
      "metadata": {
        "id": "hmjSYuov3hK9"
      },
      "source": [
        "**Which model performs the best?** SVM was the model which perfomed the best.\n",
        "\n",
        "**Why do you think this is?** SVM had a higher recall and F1 score but a little lower precision compared to Multinomial NB. However, in terms of performance/computational cost, I think Multinomial NB is the the best one because of it's computational cost (it just took a very few seconds for training while SVM took several minutes) and the difference between the SVM model is not considerable. In other words, in terms of performance/computational cost, and considering that sklearn models are not compatible to run using the GPU, MultinomialNB did the best job, but in terms of performance, SVM performed the best.\n",
        "\n",
        "The reason why SVM performed the best (but with a higher computational cost), is because it scales very well in high dimensional data, thus we get better performance results compared to other models.\n",
        "\n",
        "**What do you think you can do to improve performance?** Since we have enough data to train, I think we can improve the performance by pre-processing the datasets, in which we could:\n",
        "\n",
        "*   Delete URL's\n",
        "*   Delete user mentions\n",
        "*   Delete hashtags\n",
        "\n",
        "Probably filtering out those elements could reduce some noise when training these models, and thus, getting a better performance.\n",
        "\n",
        "\n",
        "\n"
      ]
    },
    {
      "cell_type": "markdown",
      "metadata": {
        "id": "eQiCWGh13uTo"
      },
      "source": [
        "##**EXERCISE 5**\n",
        "\n",
        "**5. (30 points)** Add to the comparison of #4 a the manually calculated precision, recall and F1 score using VADER and their suggested defaults to categorize the test split tweets in positive or negative."
      ]
    },
    {
      "cell_type": "markdown",
      "metadata": {
        "id": "OeCoGXshCUfE"
      },
      "source": [
        "###**Performing VADER Sentiment analysis on the test split data**"
      ]
    },
    {
      "cell_type": "code",
      "metadata": {
        "id": "3eqtIkSe36rC",
        "colab": {
          "base_uri": "https://localhost:8080/",
          "height": 419
        },
        "outputId": "e0534b45-6f12-4eea-e429-bffa11eab3d2"
      },
      "source": [
        "import nltk\n",
        "nltk.download('vader_lexicon')\n",
        "nltk.download('punkt')\n",
        "from nltk.sentiment.vader import SentimentIntensityAnalyzer as SIA\n",
        "import numpy as np\n",
        "import pandas as pd\n",
        "\n",
        "clear_output()\n",
        "sia = SIA()\n",
        "\n",
        "#Calculating the sentiment score from the sentiment140 dataset\n",
        "\n",
        "total = len(test_data)\n",
        "current_percentage = 0\n",
        "last_percentage = 0\n",
        "\n",
        "df_polarity = pd.DataFrame(columns=['Text','Compound','Negative','Neutral','Positive'])\n",
        "for i in range(len(test_data)):\n",
        "    scores = sia.polarity_scores(test_data[i])\n",
        "    df_polarity.loc[len(df_polarity), :] = [test_data[i],scores['compound'],scores['neg'],scores['neu'],scores['pos']]\n",
        "    \n",
        "    current_percentage = (i/total)*100\n",
        "    if current_percentage - last_percentage > 0.1:\n",
        "        print(\"Progress: \"+str(round(current_percentage,1))+\"%\")\n",
        "        last_percentage = current_percentage\n",
        "\n",
        "clear_output()\n",
        "\n",
        "df_polarity"
      ],
      "execution_count": 31,
      "outputs": [
        {
          "output_type": "execute_result",
          "data": {
            "text/html": [
              "<div>\n",
              "<style scoped>\n",
              "    .dataframe tbody tr th:only-of-type {\n",
              "        vertical-align: middle;\n",
              "    }\n",
              "\n",
              "    .dataframe tbody tr th {\n",
              "        vertical-align: top;\n",
              "    }\n",
              "\n",
              "    .dataframe thead th {\n",
              "        text-align: right;\n",
              "    }\n",
              "</style>\n",
              "<table border=\"1\" class=\"dataframe\">\n",
              "  <thead>\n",
              "    <tr style=\"text-align: right;\">\n",
              "      <th></th>\n",
              "      <th>Text</th>\n",
              "      <th>Compound</th>\n",
              "      <th>Negative</th>\n",
              "      <th>Neutral</th>\n",
              "      <th>Positive</th>\n",
              "    </tr>\n",
              "  </thead>\n",
              "  <tbody>\n",
              "    <tr>\n",
              "      <th>0</th>\n",
              "      <td>is going to bed now after a day of hard work -...</td>\n",
              "      <td>0.2732</td>\n",
              "      <td>0.067</td>\n",
              "      <td>0.813</td>\n",
              "      <td>0.12</td>\n",
              "    </tr>\n",
              "    <tr>\n",
              "      <th>1</th>\n",
              "      <td>@lilxicanita aww mecheee you can be my friend....</td>\n",
              "      <td>0</td>\n",
              "      <td>0</td>\n",
              "      <td>1</td>\n",
              "      <td>0</td>\n",
              "    </tr>\n",
              "    <tr>\n",
              "      <th>2</th>\n",
              "      <td>having my big brother open for me is a dream c...</td>\n",
              "      <td>0.5905</td>\n",
              "      <td>0</td>\n",
              "      <td>0.779</td>\n",
              "      <td>0.221</td>\n",
              "    </tr>\n",
              "    <tr>\n",
              "      <th>3</th>\n",
              "      <td>acting going well. will reach goal by God's gr...</td>\n",
              "      <td>0.6124</td>\n",
              "      <td>0</td>\n",
              "      <td>0.5</td>\n",
              "      <td>0.5</td>\n",
              "    </tr>\n",
              "    <tr>\n",
              "      <th>4</th>\n",
              "      <td>@morganmovement what?! Wtf happened?! I'm doin...</td>\n",
              "      <td>-0.695</td>\n",
              "      <td>0.24</td>\n",
              "      <td>0.76</td>\n",
              "      <td>0</td>\n",
              "    </tr>\n",
              "    <tr>\n",
              "      <th>...</th>\n",
              "      <td>...</td>\n",
              "      <td>...</td>\n",
              "      <td>...</td>\n",
              "      <td>...</td>\n",
              "      <td>...</td>\n",
              "    </tr>\n",
              "    <tr>\n",
              "      <th>319995</th>\n",
              "      <td>@mileycyrus http://twitpic.com/5ppwd - I have ...</td>\n",
              "      <td>0</td>\n",
              "      <td>0</td>\n",
              "      <td>1</td>\n",
              "      <td>0</td>\n",
              "    </tr>\n",
              "    <tr>\n",
              "      <th>319996</th>\n",
              "      <td>@gin_lady thanks, lots of sleep and knitting s...</td>\n",
              "      <td>0.6808</td>\n",
              "      <td>0</td>\n",
              "      <td>0.556</td>\n",
              "      <td>0.444</td>\n",
              "    </tr>\n",
              "    <tr>\n",
              "      <th>319997</th>\n",
              "      <td>just watched like a three hour movie arizona i...</td>\n",
              "      <td>0.3612</td>\n",
              "      <td>0</td>\n",
              "      <td>0.839</td>\n",
              "      <td>0.161</td>\n",
              "    </tr>\n",
              "    <tr>\n",
              "      <th>319998</th>\n",
              "      <td>I saw all the 'tussen de oren' episodes and f...</td>\n",
              "      <td>-0.7316</td>\n",
              "      <td>0.255</td>\n",
              "      <td>0.745</td>\n",
              "      <td>0</td>\n",
              "    </tr>\n",
              "    <tr>\n",
              "      <th>319999</th>\n",
              "      <td>He say Im special.  *bllush</td>\n",
              "      <td>0.4019</td>\n",
              "      <td>0</td>\n",
              "      <td>0.597</td>\n",
              "      <td>0.403</td>\n",
              "    </tr>\n",
              "  </tbody>\n",
              "</table>\n",
              "<p>320000 rows × 5 columns</p>\n",
              "</div>"
            ],
            "text/plain": [
              "                                                     Text  ... Positive\n",
              "0       is going to bed now after a day of hard work -...  ...     0.12\n",
              "1       @lilxicanita aww mecheee you can be my friend....  ...        0\n",
              "2       having my big brother open for me is a dream c...  ...    0.221\n",
              "3       acting going well. will reach goal by God's gr...  ...      0.5\n",
              "4       @morganmovement what?! Wtf happened?! I'm doin...  ...        0\n",
              "...                                                   ...  ...      ...\n",
              "319995  @mileycyrus http://twitpic.com/5ppwd - I have ...  ...        0\n",
              "319996  @gin_lady thanks, lots of sleep and knitting s...  ...    0.444\n",
              "319997  just watched like a three hour movie arizona i...  ...    0.161\n",
              "319998   I saw all the 'tussen de oren' episodes and f...  ...        0\n",
              "319999                        He say Im special.  *bllush  ...    0.403\n",
              "\n",
              "[320000 rows x 5 columns]"
            ]
          },
          "metadata": {
            "tags": []
          },
          "execution_count": 31
        }
      ]
    },
    {
      "cell_type": "code",
      "metadata": {
        "colab": {
          "base_uri": "https://localhost:8080/",
          "height": 419
        },
        "id": "_rNaR_5-JQVO",
        "outputId": "eebb6b70-fd13-4296-d8f3-f4449ee6ef25"
      },
      "source": [
        "#We add an empty column named \"Label\"\n",
        "df_polarity['Label'] = np.nan\n",
        "\n",
        "#If compound is 0 or greater will be cosidered as positive\n",
        "#Otherwise it will be considered as negative\n",
        "for index, row in df_polarity.iterrows():\n",
        "    if row['Compound'] >= 0:\n",
        "        df_polarity.at[index,'Label'] = 1\n",
        "    else:\n",
        "        df_polarity.at[index,'Label'] = 0\n",
        "\n",
        "df_polarity.Label = df_polarity.Label.astype(int)\n",
        "df_polarity"
      ],
      "execution_count": 32,
      "outputs": [
        {
          "output_type": "execute_result",
          "data": {
            "text/html": [
              "<div>\n",
              "<style scoped>\n",
              "    .dataframe tbody tr th:only-of-type {\n",
              "        vertical-align: middle;\n",
              "    }\n",
              "\n",
              "    .dataframe tbody tr th {\n",
              "        vertical-align: top;\n",
              "    }\n",
              "\n",
              "    .dataframe thead th {\n",
              "        text-align: right;\n",
              "    }\n",
              "</style>\n",
              "<table border=\"1\" class=\"dataframe\">\n",
              "  <thead>\n",
              "    <tr style=\"text-align: right;\">\n",
              "      <th></th>\n",
              "      <th>Text</th>\n",
              "      <th>Compound</th>\n",
              "      <th>Negative</th>\n",
              "      <th>Neutral</th>\n",
              "      <th>Positive</th>\n",
              "      <th>Label</th>\n",
              "    </tr>\n",
              "  </thead>\n",
              "  <tbody>\n",
              "    <tr>\n",
              "      <th>0</th>\n",
              "      <td>is going to bed now after a day of hard work -...</td>\n",
              "      <td>0.2732</td>\n",
              "      <td>0.067</td>\n",
              "      <td>0.813</td>\n",
              "      <td>0.12</td>\n",
              "      <td>1</td>\n",
              "    </tr>\n",
              "    <tr>\n",
              "      <th>1</th>\n",
              "      <td>@lilxicanita aww mecheee you can be my friend....</td>\n",
              "      <td>0</td>\n",
              "      <td>0</td>\n",
              "      <td>1</td>\n",
              "      <td>0</td>\n",
              "      <td>1</td>\n",
              "    </tr>\n",
              "    <tr>\n",
              "      <th>2</th>\n",
              "      <td>having my big brother open for me is a dream c...</td>\n",
              "      <td>0.5905</td>\n",
              "      <td>0</td>\n",
              "      <td>0.779</td>\n",
              "      <td>0.221</td>\n",
              "      <td>1</td>\n",
              "    </tr>\n",
              "    <tr>\n",
              "      <th>3</th>\n",
              "      <td>acting going well. will reach goal by God's gr...</td>\n",
              "      <td>0.6124</td>\n",
              "      <td>0</td>\n",
              "      <td>0.5</td>\n",
              "      <td>0.5</td>\n",
              "      <td>1</td>\n",
              "    </tr>\n",
              "    <tr>\n",
              "      <th>4</th>\n",
              "      <td>@morganmovement what?! Wtf happened?! I'm doin...</td>\n",
              "      <td>-0.695</td>\n",
              "      <td>0.24</td>\n",
              "      <td>0.76</td>\n",
              "      <td>0</td>\n",
              "      <td>0</td>\n",
              "    </tr>\n",
              "    <tr>\n",
              "      <th>...</th>\n",
              "      <td>...</td>\n",
              "      <td>...</td>\n",
              "      <td>...</td>\n",
              "      <td>...</td>\n",
              "      <td>...</td>\n",
              "      <td>...</td>\n",
              "    </tr>\n",
              "    <tr>\n",
              "      <th>319995</th>\n",
              "      <td>@mileycyrus http://twitpic.com/5ppwd - I have ...</td>\n",
              "      <td>0</td>\n",
              "      <td>0</td>\n",
              "      <td>1</td>\n",
              "      <td>0</td>\n",
              "      <td>1</td>\n",
              "    </tr>\n",
              "    <tr>\n",
              "      <th>319996</th>\n",
              "      <td>@gin_lady thanks, lots of sleep and knitting s...</td>\n",
              "      <td>0.6808</td>\n",
              "      <td>0</td>\n",
              "      <td>0.556</td>\n",
              "      <td>0.444</td>\n",
              "      <td>1</td>\n",
              "    </tr>\n",
              "    <tr>\n",
              "      <th>319997</th>\n",
              "      <td>just watched like a three hour movie arizona i...</td>\n",
              "      <td>0.3612</td>\n",
              "      <td>0</td>\n",
              "      <td>0.839</td>\n",
              "      <td>0.161</td>\n",
              "      <td>1</td>\n",
              "    </tr>\n",
              "    <tr>\n",
              "      <th>319998</th>\n",
              "      <td>I saw all the 'tussen de oren' episodes and f...</td>\n",
              "      <td>-0.7316</td>\n",
              "      <td>0.255</td>\n",
              "      <td>0.745</td>\n",
              "      <td>0</td>\n",
              "      <td>0</td>\n",
              "    </tr>\n",
              "    <tr>\n",
              "      <th>319999</th>\n",
              "      <td>He say Im special.  *bllush</td>\n",
              "      <td>0.4019</td>\n",
              "      <td>0</td>\n",
              "      <td>0.597</td>\n",
              "      <td>0.403</td>\n",
              "      <td>1</td>\n",
              "    </tr>\n",
              "  </tbody>\n",
              "</table>\n",
              "<p>320000 rows × 6 columns</p>\n",
              "</div>"
            ],
            "text/plain": [
              "                                                     Text  ... Label\n",
              "0       is going to bed now after a day of hard work -...  ...     1\n",
              "1       @lilxicanita aww mecheee you can be my friend....  ...     1\n",
              "2       having my big brother open for me is a dream c...  ...     1\n",
              "3       acting going well. will reach goal by God's gr...  ...     1\n",
              "4       @morganmovement what?! Wtf happened?! I'm doin...  ...     0\n",
              "...                                                   ...  ...   ...\n",
              "319995  @mileycyrus http://twitpic.com/5ppwd - I have ...  ...     1\n",
              "319996  @gin_lady thanks, lots of sleep and knitting s...  ...     1\n",
              "319997  just watched like a three hour movie arizona i...  ...     1\n",
              "319998   I saw all the 'tussen de oren' episodes and f...  ...     0\n",
              "319999                        He say Im special.  *bllush  ...     1\n",
              "\n",
              "[320000 rows x 6 columns]"
            ]
          },
          "metadata": {
            "tags": []
          },
          "execution_count": 32
        }
      ]
    },
    {
      "cell_type": "code",
      "metadata": {
        "colab": {
          "base_uri": "https://localhost:8080/",
          "height": 238
        },
        "id": "1uO8NiGlKpo0",
        "outputId": "dbf8edd3-0327-4a1c-f1d6-6af8414c3684"
      },
      "source": [
        "print(\"Evaluating and getting metrics from VADER...\")\n",
        "#=========== VADER (METRICS) ==============\n",
        "model_vader_precision = sklearn.metrics.precision_score(np.array(test_target),df_polarity.Label.values)\n",
        "model_vader_recall = sklearn.metrics.recall_score(np.array(test_target),df_polarity.Label.values)\n",
        "model_vader_f1 = sklearn.metrics.f1_score(df_polarity.Label.values, np.array(test_target), average='macro')\n",
        "\n",
        "model_vader_metrics = ['VADER Analysis',model_vader_precision,model_vader_recall,model_vader_f1]\n",
        "\n",
        "print(\"Done!\")\n",
        "\n",
        "df_metrics.loc[len(df_metrics), :] = model_vader_metrics\n",
        "\n",
        "df_metrics"
      ],
      "execution_count": 33,
      "outputs": [
        {
          "output_type": "stream",
          "text": [
            "Evaluating and getting metrics from VADER...\n",
            "Done!\n"
          ],
          "name": "stdout"
        },
        {
          "output_type": "execute_result",
          "data": {
            "text/html": [
              "<div>\n",
              "<style scoped>\n",
              "    .dataframe tbody tr th:only-of-type {\n",
              "        vertical-align: middle;\n",
              "    }\n",
              "\n",
              "    .dataframe tbody tr th {\n",
              "        vertical-align: top;\n",
              "    }\n",
              "\n",
              "    .dataframe thead th {\n",
              "        text-align: right;\n",
              "    }\n",
              "</style>\n",
              "<table border=\"1\" class=\"dataframe\">\n",
              "  <thead>\n",
              "    <tr style=\"text-align: right;\">\n",
              "      <th></th>\n",
              "      <th>Model Name</th>\n",
              "      <th>Precision</th>\n",
              "      <th>Recall</th>\n",
              "      <th>Macro F1-Score</th>\n",
              "    </tr>\n",
              "  </thead>\n",
              "  <tbody>\n",
              "    <tr>\n",
              "      <th>0</th>\n",
              "      <td>Support Vector Machine (TF-IDF)</td>\n",
              "      <td>0.793895</td>\n",
              "      <td>0.800609</td>\n",
              "      <td>0.796374</td>\n",
              "    </tr>\n",
              "    <tr>\n",
              "      <th>1</th>\n",
              "      <td>Multinomial NB (TF-IDF)</td>\n",
              "      <td>0.800344</td>\n",
              "      <td>0.728078</td>\n",
              "      <td>0.772759</td>\n",
              "    </tr>\n",
              "    <tr>\n",
              "      <th>2</th>\n",
              "      <td>Random Forest (TF-IDF)</td>\n",
              "      <td>0.756795</td>\n",
              "      <td>0.764822</td>\n",
              "      <td>0.759509</td>\n",
              "    </tr>\n",
              "    <tr>\n",
              "      <th>3</th>\n",
              "      <td>LSTM Model</td>\n",
              "      <td>0.712602</td>\n",
              "      <td>0.730622</td>\n",
              "      <td>0.71793</td>\n",
              "    </tr>\n",
              "    <tr>\n",
              "      <th>4</th>\n",
              "      <td>VADER Analysis</td>\n",
              "      <td>0.609215</td>\n",
              "      <td>0.897545</td>\n",
              "      <td>0.640782</td>\n",
              "    </tr>\n",
              "  </tbody>\n",
              "</table>\n",
              "</div>"
            ],
            "text/plain": [
              "                        Model Name Precision    Recall Macro F1-Score\n",
              "0  Support Vector Machine (TF-IDF)  0.793895  0.800609       0.796374\n",
              "1          Multinomial NB (TF-IDF)  0.800344  0.728078       0.772759\n",
              "2           Random Forest (TF-IDF)  0.756795  0.764822       0.759509\n",
              "3                       LSTM Model  0.712602  0.730622        0.71793\n",
              "4                   VADER Analysis  0.609215  0.897545       0.640782"
            ]
          },
          "metadata": {
            "tags": []
          },
          "execution_count": 33
        }
      ]
    },
    {
      "cell_type": "markdown",
      "metadata": {
        "id": "8-1V-pBrCh_U"
      },
      "source": [
        "###**Answer the following questions**"
      ]
    },
    {
      "cell_type": "markdown",
      "metadata": {
        "id": "adgViwOm36yG"
      },
      "source": [
        "**Is this approach as good as the previous ones? Why do you think this is?** Actually, VADER sentiment analysis did the worst job from all the models. First of all, is the one which took longer for the analysis (a couple of hours). Also, if we research more about VADER sentiment analysis, mispellings may cause to have inaccurate results, and as we know, Twitter is a social media platform in which generally we could find tweets with mispelled words, or even words in other languages. Also, VADER can't detect sarcarsm, so it can be misinterpreted.\n",
        "\n",
        "To summarize, VADER should be good to use if the dataset has no mispellings, sarcasm, or other noise that could make the analyzer to perform bad (like user mentions, URL's, or hashtags in this case)."
      ]
    },
    {
      "cell_type": "markdown",
      "metadata": {
        "id": "piecK-lc39UA"
      },
      "source": [
        "##**BONUS EXERCISE**\n",
        "\n",
        "**(30 points)** : Try the following things to improve the LSTM model:\n",
        "\n",
        "*   Use **90%** training data, **10%** testing\n",
        "*   Remove stopwords from the tweets.\n",
        "*   Remove all user mentions for the tweets (@something)\n",
        "\n",
        "Compare all three new models in terms of their precision, recall and F1 score. "
      ]
    },
    {
      "cell_type": "markdown",
      "metadata": {
        "id": "NaGnkjPFb9C_"
      },
      "source": [
        "###**Removing stopwords and user mentions**"
      ]
    },
    {
      "cell_type": "code",
      "metadata": {
        "id": "B1qNJVMX39aD",
        "colab": {
          "base_uri": "https://localhost:8080/"
        },
        "outputId": "eb82fdbf-b099-454b-c965-cb0769673606"
      },
      "source": [
        "import nltk\n",
        "nltk.download('stopwords')\n",
        "nltk.download('punkt')\n",
        "from nltk.corpus import stopwords\n",
        "from nltk.tokenize import word_tokenize \n",
        "clear_output()\n",
        "\n",
        "stop_words = set(stopwords.words('english')) \n",
        "\n",
        "list_data_numpy = np.array(list_data)\n",
        "total = len(list_data_numpy)\n",
        "list_filtered_data = []\n",
        "last_percentage = 0\n",
        "current_percentage = 0\n",
        "\n",
        "#Iterating over the tweet text list data\n",
        "for i in range(total):\n",
        "    #Removing stop-words\n",
        "    word_tokens = word_tokenize(list_data_numpy[i])\n",
        "    filtered_sentence = [w.lower() for w in word_tokens if not w in stop_words] \n",
        "    tweet_without_stop_words = ' '.join(filtered_sentence)\n",
        "\n",
        "    #Removing user mentions\n",
        "    tweets_without_user_mentions = re.sub(\"[\\s.]*@[A-Za-z0-9_]+\\s+\",\" \",tweet_without_stop_words)\n",
        "\n",
        "    #Remover RT@User and Leading Usernames\n",
        "    if tweets_without_user_mentions.startswith(\"@\"):\n",
        "        tweets_without_user_mentions = tweets_without_user_mentions[1:]\n",
        "    \n",
        "    if (tweets_without_user_mentions.lower()).startswith(\"rt @\"):\n",
        "        tweets_without_user_mentions = tweets_without_user_mentions[1:]\n",
        "\n",
        "    #Adding the results to a new list\n",
        "    list_filtered_data.append(tweets_without_user_mentions)\n",
        "\n",
        "    current_percentage = (i/total)*100\n",
        "    if current_percentage - last_percentage > 0.1:\n",
        "        print(\"Progress: \"+str(round(current_percentage,1))+\"%\")\n",
        "        last_percentage = current_percentage\n",
        "\n",
        "clear_output()\n",
        "\n",
        "print(\"Done!\")"
      ],
      "execution_count": 34,
      "outputs": [
        {
          "output_type": "stream",
          "text": [
            "Done!\n"
          ],
          "name": "stdout"
        }
      ]
    },
    {
      "cell_type": "markdown",
      "metadata": {
        "id": "uK-NVdYHcHTQ"
      },
      "source": [
        "###**Splitting data to 90% for training and 10% for testing**"
      ]
    },
    {
      "cell_type": "code",
      "metadata": {
        "colab": {
          "base_uri": "https://localhost:8080/",
          "height": 142
        },
        "id": "v_vIlgEncHZk",
        "outputId": "302e64c9-8ada-4eb1-af8e-661b295d1cae"
      },
      "source": [
        "import numpy as np\n",
        "from sklearn.model_selection import train_test_split\n",
        "import random\n",
        "\n",
        "#Setting random seed to 2361\n",
        "random.seed(2361)\n",
        "np.random.seed(2361)\n",
        "\n",
        "list_data = list_filtered_data\n",
        "list_target = list(df_data['Polarity'])\n",
        "\n",
        "training_data, test_data, training_target, test_target = train_test_split(\n",
        "    list_data, list_target, test_size=0.10, random_state = 2361)\n",
        "\n",
        "df_summary_split = pd.DataFrame(columns=['Split group','Percentage', 'Positive Tweets', 'Negative Tweets', 'Size (Tweets)'])\n",
        "df_summary_split.loc[len(df_summary_split), :] = ['Training Data','90%', training_target.count(1), \n",
        "                                                  training_target.count(0), len(training_data)]\n",
        "df_summary_split.loc[len(df_summary_split), :] = ['Testing Data','10%', test_target.count(1), \n",
        "                                                  test_target.count(0), len(test_data)]\n",
        "df_summary_split.loc[len(df_summary_split), :] = ['All (Total)', '100%', test_target.count(1)+training_target.count(1), \n",
        "                                                  test_target.count(0)+training_target.count(0), len(list_data)]\n",
        "df_summary_split['Size (Tweets)'] = df_summary_split['Size (Tweets)'].apply(lambda x: \"{:,}\".format(x))\n",
        "df_summary_split['Positive Tweets'] = df_summary_split['Positive Tweets'].apply(lambda x: \"{:,}\".format(x))\n",
        "df_summary_split['Negative Tweets'] = df_summary_split['Negative Tweets'].apply(lambda x: \"{:,}\".format(x))\n",
        "df_summary_split"
      ],
      "execution_count": 36,
      "outputs": [
        {
          "output_type": "execute_result",
          "data": {
            "text/html": [
              "<div>\n",
              "<style scoped>\n",
              "    .dataframe tbody tr th:only-of-type {\n",
              "        vertical-align: middle;\n",
              "    }\n",
              "\n",
              "    .dataframe tbody tr th {\n",
              "        vertical-align: top;\n",
              "    }\n",
              "\n",
              "    .dataframe thead th {\n",
              "        text-align: right;\n",
              "    }\n",
              "</style>\n",
              "<table border=\"1\" class=\"dataframe\">\n",
              "  <thead>\n",
              "    <tr style=\"text-align: right;\">\n",
              "      <th></th>\n",
              "      <th>Split group</th>\n",
              "      <th>Percentage</th>\n",
              "      <th>Positive Tweets</th>\n",
              "      <th>Negative Tweets</th>\n",
              "      <th>Size (Tweets)</th>\n",
              "    </tr>\n",
              "  </thead>\n",
              "  <tbody>\n",
              "    <tr>\n",
              "      <th>0</th>\n",
              "      <td>Training Data</td>\n",
              "      <td>90%</td>\n",
              "      <td>720,144</td>\n",
              "      <td>719,856</td>\n",
              "      <td>1,440,000</td>\n",
              "    </tr>\n",
              "    <tr>\n",
              "      <th>1</th>\n",
              "      <td>Testing Data</td>\n",
              "      <td>10%</td>\n",
              "      <td>79,856</td>\n",
              "      <td>80,144</td>\n",
              "      <td>160,000</td>\n",
              "    </tr>\n",
              "    <tr>\n",
              "      <th>2</th>\n",
              "      <td>All (Total)</td>\n",
              "      <td>100%</td>\n",
              "      <td>800,000</td>\n",
              "      <td>800,000</td>\n",
              "      <td>1,600,000</td>\n",
              "    </tr>\n",
              "  </tbody>\n",
              "</table>\n",
              "</div>"
            ],
            "text/plain": [
              "     Split group Percentage Positive Tweets Negative Tweets Size (Tweets)\n",
              "0  Training Data        90%         720,144         719,856     1,440,000\n",
              "1   Testing Data        10%          79,856          80,144       160,000\n",
              "2    All (Total)       100%         800,000         800,000     1,600,000"
            ]
          },
          "metadata": {
            "tags": []
          },
          "execution_count": 36
        }
      ]
    },
    {
      "cell_type": "markdown",
      "metadata": {
        "id": "pYKOrbC2cHfZ"
      },
      "source": [
        "###**Re-training models from Exercise 2**"
      ]
    },
    {
      "cell_type": "code",
      "metadata": {
        "colab": {
          "base_uri": "https://localhost:8080/"
        },
        "id": "lFKTv3a-cHkf",
        "outputId": "6dfb7643-ee48-4244-a755-333094ec1e25"
      },
      "source": [
        "from sklearn.feature_extraction.text import TfidfVectorizer\n",
        "from sklearn.naive_bayes import MultinomialNB\n",
        "from sklearn.svm import LinearSVC\n",
        "from sklearn.ensemble import RandomForestClassifier, BaggingClassifier\n",
        "from sklearn.multiclass import OneVsRestClassifier\n",
        "from sklearn.pipeline import make_pipeline\n",
        "\n",
        "#================ MODEL A (SVM with TF IDF) ===================\n",
        "print(\"Building SVM Model using TF-IDF...\")\n",
        "#Model = SVM (TF-IDF)\n",
        "#% of Training = 90%\n",
        "#% of Testing = 10%\n",
        "model_a = make_pipeline(TfidfVectorizer(), LinearSVC())\n",
        "model_a.fit(training_data, training_target)\n",
        "\n",
        "#================ MODEL B (NB with TF IDF) ===================\n",
        "print(\"Building Multinomial NB Model using TF-IDF...\")\n",
        "#Model = Multinomial NB (TF-IDF)\n",
        "#% of Training = 90%\n",
        "#% of Testing = 10%\n",
        "model_b = make_pipeline(TfidfVectorizer(), MultinomialNB())\n",
        "model_b.fit(training_data, training_target)\n",
        "\n",
        "#=========== MODEL C (Random Forest with TF IDF) ==============\n",
        "print(\"Building Random Forest Model using TF-IDF...\")\n",
        "#Model = Random Forest (TF-IDF)\n",
        "#% of Training = 90%\n",
        "#% of Testing = 10%\n",
        "model_c = make_pipeline(TfidfVectorizer(), RandomForestClassifier(n_jobs=-1, max_depth=50))\n",
        "model_c.fit(training_data, training_target)\n",
        "\n",
        "print(\"Done!\")"
      ],
      "execution_count": 37,
      "outputs": [
        {
          "output_type": "stream",
          "text": [
            "Building SVM Model using TF-IDF...\n",
            "Building Multinomial NB Model using TF-IDF...\n",
            "Building Random Forest Model using TF-IDF...\n",
            "Done!\n"
          ],
          "name": "stdout"
        }
      ]
    },
    {
      "cell_type": "markdown",
      "metadata": {
        "id": "l0Em5pXUcTSX"
      },
      "source": [
        "###**Re-training LSTM Model from Exercise 3**"
      ]
    },
    {
      "cell_type": "code",
      "metadata": {
        "colab": {
          "base_uri": "https://localhost:8080/"
        },
        "id": "Tnpnfgf7cTZc",
        "outputId": "4917bddc-ed10-49df-c44b-fdb60864fc0c"
      },
      "source": [
        "import tensorflow as tf \n",
        "import numpy as np\n",
        "from tensorflow.keras.preprocessing import sequence\n",
        "from numpy import array\n",
        "from keras.preprocessing.text import Tokenizer\n",
        "\n",
        "# Supress deprecation warnings\n",
        "import logging\n",
        "logging.getLogger('tensorflow').disabled = True\n",
        "\n",
        "# Concatonate test and training datasets\n",
        "alltweets = np.concatenate((training_data, test_data), axis=0)\n",
        "\n",
        "# Tweet lengths across test and training whole datasets\n",
        "print(\"Maximum tweet length: {}\".format(len(max((alltweets), key=len))))\n",
        "print(\"Minimum tweet length: {}\".format(len(min((alltweets), key=len))))\n",
        "result = [len(x) for x in alltweets]\n",
        "print(\"Mean tweet length: {}\".format(np.mean(result)))\n",
        "\n",
        "# The length of tweets\n",
        "tweet_length = 100\n",
        "\n",
        "tokenizer = Tokenizer(num_words=tweet_length, lower=True)\n",
        "tokenizer.fit_on_texts(np.array(df_data['Text']))\n",
        "x_train = tokenizer.texts_to_sequences(np.array(training_data))\n",
        "x_train = sequence.pad_sequences(x_train, maxlen=tweet_length)\n",
        "\n",
        "x_test = tokenizer.texts_to_sequences(np.array(test_data))\n",
        "x_test = sequence.pad_sequences(x_test, maxlen=tweet_length)\n",
        "\n",
        "y_train = np.array(training_target)\n",
        "y_test = np.array(test_target)\n",
        "\n",
        "print(\"\")\n",
        "print(\"Shape Training Tweet Data: \" + str(x_train.shape))\n",
        "print(\"Shape Training Class Data: \" + str(y_train.shape))\n",
        "print(\"Shape Test Tweet Data: \" + str(x_test.shape))\n",
        "print(\"Shape Test Class Data: \" + str(y_test.shape))"
      ],
      "execution_count": 38,
      "outputs": [
        {
          "output_type": "stream",
          "text": [
            "Maximum tweet length: 580\n",
            "Minimum tweet length: 0\n",
            "Mean tweet length: 58.2052325\n",
            "\n",
            "Shape Training Tweet Data: (1440000, 100)\n",
            "Shape Training Class Data: (1440000,)\n",
            "Shape Test Tweet Data: (160000, 100)\n",
            "Shape Test Class Data: (160000,)\n"
          ],
          "name": "stdout"
        }
      ]
    },
    {
      "cell_type": "code",
      "metadata": {
        "colab": {
          "base_uri": "https://localhost:8080/"
        },
        "id": "1Q3Uw8YMdjTt",
        "outputId": "964e9085-8082-4709-e7f1-0485ea10332d"
      },
      "source": [
        "model = tf.keras.models.Sequential()\n",
        "\n",
        "# The Embedding Layer provides a spatial mapping (or Word Embedding) of all the \n",
        "# individual words in our training set. Words close to one another share context \n",
        "# and or meaning. This spatial mapping is learning during the training process.\n",
        "model.add(\n",
        "    tf.keras.layers.Embedding(\n",
        "        input_dim = 10000, # The size of our vocabulary \n",
        "        output_dim = 32, # Dimensions to which each words shall be mapped\n",
        "        input_length = tweet_length # Length of input sequences\n",
        "    )\n",
        ")\n",
        "\n",
        "# Dropout layers fight overfitting and forces the model to learn multiple \n",
        "# representations of the same data by randomly disabling neurons in the \n",
        "# learning phase.\n",
        "model.add(\n",
        "    tf.keras.layers.Dropout(\n",
        "        rate=0.10 # Randomly disable 25% of neurons\n",
        "    )\n",
        ")\n",
        "\n",
        "# We are using a fast version of LSTM which is optimised for GPUs. This layer \n",
        "# looks at the sequence of words in the tweet, along with their word embeddings\n",
        "# and uses both of these to determine to sentiment of a given tweet.\n",
        "model.add(\n",
        "    tf.keras.layers.LSTM(\n",
        "        units=128 # 128 LSTM units in this layer\n",
        "    )\n",
        ")\n",
        "\n",
        "# Add a second dropout layer with the same aim as the first.\n",
        "model.add(\n",
        "    tf.keras.layers.Dropout(\n",
        "        rate=0.10 # Randomly disable 25% of neurons\n",
        "    )\n",
        ")\n",
        "\n",
        "# All LSTM units are connected to a single node in the dense layer. A sigmoid \n",
        "# activation function determines the output from this node - a value \n",
        "# between 0 and 1. Closer to 0 indicates a negative tweet. Closer to 1 \n",
        "# indicates a positive tweet.\n",
        "model.add(\n",
        "    tf.keras.layers.Dense(\n",
        "        units=1, # Single unit\n",
        "        activation='sigmoid' # Sigmoid activation function (output from 0 to 1)\n",
        "    )\n",
        ")\n",
        "\n",
        "# Compile the model\n",
        "model.compile(\n",
        "    loss=tf.keras.losses.binary_crossentropy, # loss function\n",
        "    optimizer=tf.keras.optimizers.Adam(), # optimiser function\n",
        "    metrics=['accuracy']) # reporting metric\n",
        "\n",
        "# Display a summary of the models structure\n",
        "model.summary()"
      ],
      "execution_count": 39,
      "outputs": [
        {
          "output_type": "stream",
          "text": [
            "Model: \"sequential_4\"\n",
            "_________________________________________________________________\n",
            "Layer (type)                 Output Shape              Param #   \n",
            "=================================================================\n",
            "embedding_4 (Embedding)      (None, 100, 32)           320000    \n",
            "_________________________________________________________________\n",
            "dropout_8 (Dropout)          (None, 100, 32)           0         \n",
            "_________________________________________________________________\n",
            "lstm_4 (LSTM)                (None, 128)               82432     \n",
            "_________________________________________________________________\n",
            "dropout_9 (Dropout)          (None, 128)               0         \n",
            "_________________________________________________________________\n",
            "dense_4 (Dense)              (None, 1)                 129       \n",
            "=================================================================\n",
            "Total params: 402,561\n",
            "Trainable params: 402,561\n",
            "Non-trainable params: 0\n",
            "_________________________________________________________________\n"
          ],
          "name": "stdout"
        }
      ]
    },
    {
      "cell_type": "code",
      "metadata": {
        "colab": {
          "base_uri": "https://localhost:8080/",
          "height": 644
        },
        "id": "ZQvkk8gbdm6Y",
        "outputId": "4f2693a9-c363-4097-9357-7d9ee55f230e"
      },
      "source": [
        "tf.keras.utils.plot_model(model, to_file='model_bonus.png', show_shapes=True, show_layer_names=False)"
      ],
      "execution_count": 40,
      "outputs": [
        {
          "output_type": "execute_result",
          "data": {
            "image/png": "[encoded data removed]",
            "text/plain": [
              "<IPython.core.display.Image object>"
            ]
          },
          "metadata": {
            "tags": []
          },
          "execution_count": 40
        }
      ]
    },
    {
      "cell_type": "code",
      "metadata": {
        "colab": {
          "base_uri": "https://localhost:8080/"
        },
        "id": "eONdKK6udnrw",
        "outputId": "082dd5d0-d807-4da2-f62b-5f4b1f5795ba"
      },
      "source": [
        "# Train the LSTM on the training data\n",
        "history = model.fit(x_train, y_train, batch_size=512, epochs=5,validation_split=0.15,verbose=1) "
      ],
      "execution_count": 41,
      "outputs": [
        {
          "output_type": "stream",
          "text": [
            "Epoch 1/5\n",
            "2391/2391 [==============================] - 40s 16ms/step - loss: 0.6504 - accuracy: 0.6061 - val_loss: 0.6413 - val_accuracy: 0.6183\n",
            "Epoch 2/5\n",
            "2391/2391 [==============================] - 38s 16ms/step - loss: 0.6414 - accuracy: 0.6168 - val_loss: 0.6399 - val_accuracy: 0.6190\n",
            "Epoch 3/5\n",
            "2391/2391 [==============================] - 39s 16ms/step - loss: 0.6411 - accuracy: 0.6161 - val_loss: 0.6394 - val_accuracy: 0.6191\n",
            "Epoch 4/5\n",
            "2391/2391 [==============================] - 39s 16ms/step - loss: 0.6406 - accuracy: 0.6180 - val_loss: 0.6396 - val_accuracy: 0.6200\n",
            "Epoch 5/5\n",
            "2391/2391 [==============================] - 38s 16ms/step - loss: 0.6403 - accuracy: 0.6180 - val_loss: 0.6387 - val_accuracy: 0.6202\n"
          ],
          "name": "stdout"
        }
      ]
    },
    {
      "cell_type": "code",
      "metadata": {
        "colab": {
          "base_uri": "https://localhost:8080/"
        },
        "id": "c2LQq6ZPdqG_",
        "outputId": "b18cbf1d-2219-4683-e367-c18387a7db04"
      },
      "source": [
        "import warnings\n",
        "warnings.filterwarnings(\"ignore\")\n",
        "\n",
        "# Get Model Predictions for test data\n",
        "from sklearn.metrics import classification_report\n",
        "predicted_classes = model.predict_classes(x_test)\n",
        "print(classification_report(y_test, predicted_classes, target_names=[\"Negative\",\"Positive\"]))"
      ],
      "execution_count": 42,
      "outputs": [
        {
          "output_type": "stream",
          "text": [
            "              precision    recall  f1-score   support\n",
            "\n",
            "    Negative       0.63      0.58      0.61     80144\n",
            "    Positive       0.61      0.66      0.64     79856\n",
            "\n",
            "    accuracy                           0.62    160000\n",
            "   macro avg       0.62      0.62      0.62    160000\n",
            "weighted avg       0.62      0.62      0.62    160000\n",
            "\n"
          ],
          "name": "stdout"
        }
      ]
    },
    {
      "cell_type": "markdown",
      "metadata": {
        "id": "Xte9Q7rrcfpE"
      },
      "source": [
        "###**VADER Sentiment Analysis (Exercise 5)**"
      ]
    },
    {
      "cell_type": "code",
      "metadata": {
        "id": "SSK9eVJTcfug"
      },
      "source": [
        "import nltk\n",
        "nltk.download('vader_lexicon')\n",
        "nltk.download('punkt')\n",
        "from nltk.sentiment.vader import SentimentIntensityAnalyzer as SIA\n",
        "import numpy as np\n",
        "import pandas as pd\n",
        "\n",
        "clear_output()\n",
        "sia = SIA()\n",
        "\n",
        "#Calculating the sentiment score from the sentiment140 dataset\n",
        "\n",
        "total = len(test_data)\n",
        "last_percentage = 0\n",
        "current_percentage = 0\n",
        "\n",
        "df_polarity = pd.DataFrame(columns=['Text','Compound','Negative','Neutral','Positive'])\n",
        "for i in range(len(test_data)):\n",
        "    scores = sia.polarity_scores(test_data[i])\n",
        "    df_polarity.loc[len(df_polarity), :] = [test_data[i],scores['compound'],scores['neg'],scores['neu'],scores['pos']]\n",
        "    \n",
        "    current_percentage = (i/total)*100\n",
        "    if current_percentage - last_percentage > 0.1:\n",
        "        print(\"Progress: \"+str(round(current_percentage,1))+\"%\")\n",
        "        last_percentage = current_percentage\n",
        "\n",
        "clear_output()\n",
        "\n",
        "df_polarity['Label'] = np.nan\n",
        "\n",
        "#If compound is 0 or greater will be cosidered as positive\n",
        "#Otherwise it will be considered as negative\n",
        "for index, row in df_polarity.iterrows():\n",
        "    if row['Compound'] >= 0:\n",
        "        df_polarity.at[index,'Label'] = 1\n",
        "    else:\n",
        "        df_polarity.at[index,'Label'] = 0\n",
        "\n",
        "df_polarity.Label = df_polarity.Label.astype(int)"
      ],
      "execution_count": 43,
      "outputs": []
    },
    {
      "cell_type": "markdown",
      "metadata": {
        "id": "PRuhUF9JgQNg"
      },
      "source": [
        "###**Comparing the performance between the re-trained models**"
      ]
    },
    {
      "cell_type": "code",
      "metadata": {
        "colab": {
          "base_uri": "https://localhost:8080/",
          "height": 306
        },
        "id": "OIUie2XIdtsr",
        "outputId": "4e309f68-3700-4557-8711-2fa291ed9ede"
      },
      "source": [
        "import sklearn\n",
        "\n",
        "df_metrics = pd.DataFrame(columns=['Model Name','Precision','Recall','Macro F1-Score'])\n",
        "\n",
        "\n",
        "print(\"Evaluating and getting metrics from SVM TF-IDF...\")\n",
        "#=========== SVM TF-IDF (METRICS) ==============\n",
        "model_a_labels = model_a.predict(test_data)\n",
        "model_a_precision = sklearn.metrics.precision_score(test_target,model_a_labels)\n",
        "model_a_recall = sklearn.metrics.recall_score(test_target,model_a_labels)\n",
        "model_a_f1 = sklearn.metrics.f1_score(model_a_labels, test_target, average='macro')\n",
        "\n",
        "model_a_metrics = ['Support Vector Machine (TF-IDF)',model_a_precision,model_a_recall,model_a_f1]\n",
        "\n",
        "print(\"Evaluating and getting metrics from NB TF-IDF...\")\n",
        "#=========== Naive Bayes TF-IDF (METRICS) ==============\n",
        "model_b_labels = model_b.predict(test_data)\n",
        "model_b_precision = sklearn.metrics.precision_score(test_target,model_b_labels)\n",
        "model_b_recall = sklearn.metrics.recall_score(test_target,model_b_labels)\n",
        "model_b_f1 = sklearn.metrics.f1_score(model_b_labels, test_target, average='macro')\n",
        "\n",
        "model_b_metrics = ['Multinomial NB (TF-IDF)',model_b_precision,model_b_recall,model_b_f1]\n",
        "\n",
        "print(\"Evaluating and getting metrics from Random Forest TF-IDF...\")\n",
        "#=========== Naive Bayes TF-IDF (METRICS) ==============\n",
        "model_c_labels = model_c.predict(test_data)\n",
        "model_c_precision = sklearn.metrics.precision_score(test_target,model_c_labels)\n",
        "model_c_recall = sklearn.metrics.recall_score(test_target,model_c_labels)\n",
        "model_c_f1 = sklearn.metrics.f1_score(model_c_labels, test_target, average='macro')\n",
        "\n",
        "model_c_metrics = ['Random Forest (TF-IDF)',model_c_precision,model_c_recall,model_c_f1]\n",
        "\n",
        "print(\"Evaluating and getting metrics from LSTM...\")\n",
        "#=========== LSTM (METRICS) ==============\n",
        "model_lstm_precision = sklearn.metrics.precision_score(y_test,predicted_classes)\n",
        "model_lstm_recall = sklearn.metrics.recall_score(y_test,predicted_classes)\n",
        "model_lstm_f1 = sklearn.metrics.f1_score(predicted_classes, y_test, average='macro')\n",
        "\n",
        "model_lstm_metrics = ['LSTM Model',model_lstm_precision,model_lstm_recall,model_lstm_f1]\n",
        "\n",
        "print(\"Evaluating and getting metrics from VADER...\")\n",
        "#=========== VADER (METRICS) ==============\n",
        "model_vader_precision = sklearn.metrics.precision_score(np.array(test_target),df_polarity.Label.values)\n",
        "model_vader_recall = sklearn.metrics.recall_score(np.array(test_target),df_polarity.Label.values)\n",
        "model_vader_f1 = sklearn.metrics.f1_score(df_polarity.Label.values, np.array(test_target), average='macro')\n",
        "\n",
        "model_vader_metrics = ['VADER Analysis',model_vader_precision,model_vader_recall,model_vader_f1]\n",
        "\n",
        "print(\"Done!\")\n",
        "\n",
        "df_metrics.loc[len(df_metrics), :] = model_a_metrics\n",
        "df_metrics.loc[len(df_metrics), :] = model_b_metrics\n",
        "df_metrics.loc[len(df_metrics), :] = model_c_metrics\n",
        "df_metrics.loc[len(df_metrics), :] = model_lstm_metrics\n",
        "df_metrics.loc[len(df_metrics), :] = model_vader_metrics\n",
        "\n",
        "df_metrics"
      ],
      "execution_count": 44,
      "outputs": [
        {
          "output_type": "stream",
          "text": [
            "Evaluating and getting metrics from SVM TF-IDF...\n",
            "Evaluating and getting metrics from NB TF-IDF...\n",
            "Evaluating and getting metrics from Random Forest TF-IDF...\n",
            "Evaluating and getting metrics from LSTM...\n",
            "Evaluating and getting metrics from VADER...\n",
            "Done!\n"
          ],
          "name": "stdout"
        },
        {
          "output_type": "execute_result",
          "data": {
            "text/html": [
              "<div>\n",
              "<style scoped>\n",
              "    .dataframe tbody tr th:only-of-type {\n",
              "        vertical-align: middle;\n",
              "    }\n",
              "\n",
              "    .dataframe tbody tr th {\n",
              "        vertical-align: top;\n",
              "    }\n",
              "\n",
              "    .dataframe thead th {\n",
              "        text-align: right;\n",
              "    }\n",
              "</style>\n",
              "<table border=\"1\" class=\"dataframe\">\n",
              "  <thead>\n",
              "    <tr style=\"text-align: right;\">\n",
              "      <th></th>\n",
              "      <th>Model Name</th>\n",
              "      <th>Precision</th>\n",
              "      <th>Recall</th>\n",
              "      <th>Macro F1-Score</th>\n",
              "    </tr>\n",
              "  </thead>\n",
              "  <tbody>\n",
              "    <tr>\n",
              "      <th>0</th>\n",
              "      <td>Support Vector Machine (TF-IDF)</td>\n",
              "      <td>0.776107</td>\n",
              "      <td>0.792552</td>\n",
              "      <td>0.782333</td>\n",
              "    </tr>\n",
              "    <tr>\n",
              "      <th>1</th>\n",
              "      <td>Multinomial NB (TF-IDF)</td>\n",
              "      <td>0.783155</td>\n",
              "      <td>0.737415</td>\n",
              "      <td>0.766814</td>\n",
              "    </tr>\n",
              "    <tr>\n",
              "      <th>2</th>\n",
              "      <td>Random Forest (TF-IDF)</td>\n",
              "      <td>0.738008</td>\n",
              "      <td>0.773367</td>\n",
              "      <td>0.74974</td>\n",
              "    </tr>\n",
              "    <tr>\n",
              "      <th>3</th>\n",
              "      <td>LSTM Model</td>\n",
              "      <td>0.611931</td>\n",
              "      <td>0.660138</td>\n",
              "      <td>0.620898</td>\n",
              "    </tr>\n",
              "    <tr>\n",
              "      <th>4</th>\n",
              "      <td>VADER Analysis</td>\n",
              "      <td>0.598454</td>\n",
              "      <td>0.901848</td>\n",
              "      <td>0.625355</td>\n",
              "    </tr>\n",
              "  </tbody>\n",
              "</table>\n",
              "</div>"
            ],
            "text/plain": [
              "                        Model Name Precision    Recall Macro F1-Score\n",
              "0  Support Vector Machine (TF-IDF)  0.776107  0.792552       0.782333\n",
              "1          Multinomial NB (TF-IDF)  0.783155  0.737415       0.766814\n",
              "2           Random Forest (TF-IDF)  0.738008  0.773367        0.74974\n",
              "3                       LSTM Model  0.611931  0.660138       0.620898\n",
              "4                   VADER Analysis  0.598454  0.901848       0.625355"
            ]
          },
          "metadata": {
            "tags": []
          },
          "execution_count": 44
        }
      ]
    },
    {
      "cell_type": "markdown",
      "metadata": {
        "id": "d2bNc9VbCokZ"
      },
      "source": [
        "###**Answer the following questions**"
      ]
    },
    {
      "cell_type": "markdown",
      "metadata": {
        "id": "t1L1uyyp4TqE"
      },
      "source": [
        "**Did this change the results in any way? Why do you think so?**\n",
        "Yes, the results changed in all the models. In all cases we see that the performance in every model is a little worse compared to the previous trained models.\n",
        "\n",
        "I think removing user mentions and increasing the training size \"helped\" to improve the performance, but deleting stop words was not very helpful at all, so we got a little lower performance overall.\n",
        "\n",
        "The reason why I think removing stop words was a bad idea is because a sentiment dataset may be **sensitive** if deleting the stop words. Let's say for example we have a following tweet:\n",
        "\n",
        "**\"This food was not great at all\"**\n",
        "\n",
        "If removing stopwords, we should have the following:\n",
        "\n",
        "**\"food great\"**\n",
        "\n",
        "As you can see, the models could interpret the first one as a negative tweet (because of the \"not\" word), while after removing the stop words, the models could interpret it as a positive tweet (because of the word \"great\"). That's why it is important that we should not remove stop words if we are training a sentiment dataset, because removing them could be **misinterpreted** by the models."
      ]
    }
  ]
}