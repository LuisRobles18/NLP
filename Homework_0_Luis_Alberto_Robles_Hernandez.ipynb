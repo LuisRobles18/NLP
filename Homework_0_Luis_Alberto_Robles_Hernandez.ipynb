{
  "nbformat": 4,
  "nbformat_minor": 0,
  "metadata": {
    "colab": {
      "name": "Homework 0 - Luis Alberto Robles Hernandez.ipynb",
      "provenance": []
    },
    "kernelspec": {
      "name": "python3",
      "display_name": "Python 3"
    }
  },
  "cells": [
    {
      "cell_type": "markdown",
      "metadata": {
        "id": "8itrEAqWjoK8"
      },
      "source": [
        "# **Homework 0**\r\n",
        "**Student ID:** 002581393\r\n",
        "**Name:** Luis Alberto Robles Hernandez\r\n",
        "<br><br>\r\n",
        "\r\n",
        "**1. Write a function that finds the factorial of a number. Test the function finding the factorial of the number 10.**"
      ]
    },
    {
      "cell_type": "code",
      "metadata": {
        "colab": {
          "base_uri": "https://localhost:8080/"
        },
        "id": "gbFUGdzHk2Tf",
        "outputId": "1e0fd4f0-9d2f-4c69-ca3d-f1876095104f"
      },
      "source": [
        "number = 10 #@param {type:\"integer\"}\r\n",
        "\r\n",
        "def factorial(x):\r\n",
        "  result = 1\r\n",
        "  for i in range(1,x+1):\r\n",
        "    result = result * i\r\n",
        "  return result\r\n",
        "\r\n",
        "print(\"The factorial of \"+str(number)+\" is \\033[91m\"+str(factorial(number))+\" \\033[0m\")"
      ],
      "execution_count": 255,
      "outputs": [
        {
          "output_type": "stream",
          "text": [
            "The factorial of 10 is \u001b[91m3628800 \u001b[0m\n"
          ],
          "name": "stdout"
        }
      ]
    },
    {
      "cell_type": "markdown",
      "metadata": {
        "id": "FghKPK_inzjO"
      },
      "source": [
        "**2. Write a function that determines if a number is a prime number. Test the function with the following numbers: 3 and 1251.**"
      ]
    },
    {
      "cell_type": "code",
      "metadata": {
        "colab": {
          "base_uri": "https://localhost:8080/"
        },
        "id": "4zFEAclGn3Rw",
        "outputId": "16f0ac6f-ce7c-4f2b-e976-a5a9eb41da79"
      },
      "source": [
        "number1 = 3 #@param {type:\"integer\"}\r\n",
        "number2 = 1251 #@param {type:\"integer\"}\r\n",
        "\r\n",
        "def isPrimeNumber(x):\r\n",
        "\r\n",
        "  if(x != 1):\r\n",
        "    for i in range(2,x):\r\n",
        "      #The number one and it's own number is omitted\r\n",
        "      #The code it's trying to find at least one factor besides one and it´s own number\r\n",
        "      if x % i == 0:\r\n",
        "        return False\r\n",
        "    \r\n",
        "    return True\r\n",
        "  else:\r\n",
        "      return False\r\n",
        "\r\n",
        "print(\"The number \"+str(number1)+\" is \\033[91m\"+\r\n",
        "      (\"a prime number\" if isPrimeNumber(number1) else \"not a prime number\")+\" \\033[0m \\r\\n\")\r\n",
        "print(\"The number \"+str(number2)+\" is \\033[91m\"+\r\n",
        "      (\"a prime number\" if isPrimeNumber(number2) else \"not a prime number\")+\" \\033[0m \\r\\n\")\r\n"
      ],
      "execution_count": 253,
      "outputs": [
        {
          "output_type": "stream",
          "text": [
            "The number 3 is \u001b[91ma prime number \u001b[0m \r\n",
            "\n",
            "The number 1251 is \u001b[91mnot a prime number \u001b[0m \r\n",
            "\n"
          ],
          "name": "stdout"
        }
      ]
    },
    {
      "cell_type": "markdown",
      "metadata": {
        "id": "G5SJQzhordV6"
      },
      "source": [
        "**3. Write a function that transposes a matrix. Test with a 3 x 3 identity matrix.**\r\n",
        "\r\n",
        "![MatrixTranspose[1].gif](data:image/gif;base64,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)"
      ]
    },
    {
      "cell_type": "code",
      "metadata": {
        "colab": {
          "base_uri": "https://localhost:8080/",
          "height": 0
        },
        "id": "NKJ1TsAyrevd",
        "outputId": "e559f310-9fdc-4090-e9d3-e41a5117ff0b"
      },
      "source": [
        "sizeMatrix = 3 #@param {type:\"integer\"}\r\n",
        "\r\n",
        "T2 = [[0 for x in range(sizeMatrix)] for y in range(sizeMatrix)]\r\n",
        "\r\n",
        "#Function to transpose a Matrix\r\n",
        "def transposeMatrix(T):\r\n",
        "  #T2 = T[:][:]\r\n",
        "  for i in range(len(T)):\r\n",
        "    for j in range(len(T[0])):\r\n",
        "      T2[j][i] = T[i][j]\r\n",
        "  return T2\r\n",
        "\r\n",
        "#Method to create an identity matrix from T\r\n",
        "T = [[0 for x in range(sizeMatrix)] for y in range(sizeMatrix)]\r\n",
        "\r\n",
        "for i in range(sizeMatrix):\r\n",
        "  for j in range(sizeMatrix):\r\n",
        "      \r\n",
        "    if(i == j):\r\n",
        "      T[i][j] = int(1)\r\n",
        "\r\n",
        "#Prints the results from the original matrix\r\n",
        "print(\"\\033[1mOriginal matrix:\\033[0m  \\r\\n\")\r\n",
        "for i in range(sizeMatrix):\r\n",
        "  for j in range(sizeMatrix):\r\n",
        "    print(T[i][j],\" \",end='')\r\n",
        "  print()\r\n",
        "\r\n",
        "#Calls the function to transpose to a new matrix variable\r\n",
        "TN = transposeMatrix(T)\r\n",
        "\r\n",
        "#Prints the results from the transposed matrix\r\n",
        "print()\r\n",
        "print(\"\\033[1mTransposed matrix:\\033[0m \\r\\n\")\r\n",
        "for i in range(sizeMatrix):\r\n",
        "  for j in range(sizeMatrix):\r\n",
        "    print(TN[i][j],\" \",end='')\r\n",
        "  print()\r\n"
      ],
      "execution_count": 252,
      "outputs": [
        {
          "output_type": "stream",
          "text": [
            "\u001b[1mOriginal matrix:\u001b[0m  \r\n",
            "\n",
            "1  0  0  \n",
            "0  1  0  \n",
            "0  0  1  \n",
            "\n",
            "\u001b[1mTransposed matrix:\u001b[0m \r\n",
            "\n",
            "1  0  0  \n",
            "0  1  0  \n",
            "0  0  1  \n"
          ],
          "name": "stdout"
        }
      ]
    },
    {
      "cell_type": "markdown",
      "metadata": {
        "id": "d_s_-vFt7CpX"
      },
      "source": [
        "**4. Using Pandas and Numpy, write a piece of code to combine two series into one. Test your code with:** <br>\r\n",
        "*np.random.seed(0) <br>\r\n",
        "series1 = pd.Series(np.arange(10)) <br>\r\n",
        "series2 = pd.Series(np.arange(26)) <br>\r\n",
        "Do not forget to set the seed, or your answer won’t be reproducible.*\r\n"
      ]
    },
    {
      "cell_type": "code",
      "metadata": {
        "colab": {
          "base_uri": "https://localhost:8080/",
          "height": 810
        },
        "id": "5SSaBJJ87hx0",
        "outputId": "f8df5e21-eb99-4d46-d5e6-87ed3a9c1d40"
      },
      "source": [
        "import numpy as np\r\n",
        "import pandas as pd\r\n",
        "\r\n",
        "lengthSeries1 = 10 #@param {type:\"integer\"}\r\n",
        "lengthSeries2 = 26 #@param {type:\"integer\"}\r\n",
        "\r\n",
        "#We create the two series with the length provided for each one\r\n",
        "np.random.seed(0)\r\n",
        "series1 = pd.Series(np.arange(lengthSeries1))\r\n",
        "series2 = pd.Series(np.arange(lengthSeries2))\r\n",
        "\r\n",
        "maxLength = 0\r\n",
        "minLength = 0\r\n",
        "\r\n",
        "#With these conditionals we determine the maxLength and minLength of the two Series\r\n",
        "if(len(series1) > len(series2)):\r\n",
        "  maxLength = len(series1)\r\n",
        "  minLength = len(series2)\r\n",
        "else:\r\n",
        "  maxLength = len(series2)\r\n",
        "  minLength = len(series1)\r\n",
        "\r\n",
        "#We create an empty dataframe to combine the two series, one in each column\r\n",
        "df_ = pd.DataFrame(index=range(maxLength), columns=['Series1','Series2'])\r\n",
        "\r\n",
        "#In this for loop we combine the two series\r\n",
        "#For the shorter series, it will be replaced it's empty values with a 0 (instead of a NaN)\r\n",
        "#This is done using also ternary operations\r\n",
        "for i in range(maxLength):\r\n",
        "    df_.loc[i] = [(series1[i] if i < len(series1) else 0),(series2[i] if i < len(series2) else 0)]\r\n",
        "\r\n",
        "#We print the results with it's series combined in a single dataframe\r\n",
        "df_\r\n"
      ],
      "execution_count": 108,
      "outputs": [
        {
          "output_type": "execute_result",
          "data": {
            "text/html": [
              "<div>\n",
              "<style scoped>\n",
              "    .dataframe tbody tr th:only-of-type {\n",
              "        vertical-align: middle;\n",
              "    }\n",
              "\n",
              "    .dataframe tbody tr th {\n",
              "        vertical-align: top;\n",
              "    }\n",
              "\n",
              "    .dataframe thead th {\n",
              "        text-align: right;\n",
              "    }\n",
              "</style>\n",
              "<table border=\"1\" class=\"dataframe\">\n",
              "  <thead>\n",
              "    <tr style=\"text-align: right;\">\n",
              "      <th></th>\n",
              "      <th>Series1</th>\n",
              "      <th>Series2</th>\n",
              "    </tr>\n",
              "  </thead>\n",
              "  <tbody>\n",
              "    <tr>\n",
              "      <th>0</th>\n",
              "      <td>0</td>\n",
              "      <td>0</td>\n",
              "    </tr>\n",
              "    <tr>\n",
              "      <th>1</th>\n",
              "      <td>1</td>\n",
              "      <td>1</td>\n",
              "    </tr>\n",
              "    <tr>\n",
              "      <th>2</th>\n",
              "      <td>2</td>\n",
              "      <td>2</td>\n",
              "    </tr>\n",
              "    <tr>\n",
              "      <th>3</th>\n",
              "      <td>3</td>\n",
              "      <td>3</td>\n",
              "    </tr>\n",
              "    <tr>\n",
              "      <th>4</th>\n",
              "      <td>4</td>\n",
              "      <td>4</td>\n",
              "    </tr>\n",
              "    <tr>\n",
              "      <th>5</th>\n",
              "      <td>5</td>\n",
              "      <td>5</td>\n",
              "    </tr>\n",
              "    <tr>\n",
              "      <th>6</th>\n",
              "      <td>6</td>\n",
              "      <td>6</td>\n",
              "    </tr>\n",
              "    <tr>\n",
              "      <th>7</th>\n",
              "      <td>7</td>\n",
              "      <td>7</td>\n",
              "    </tr>\n",
              "    <tr>\n",
              "      <th>8</th>\n",
              "      <td>8</td>\n",
              "      <td>8</td>\n",
              "    </tr>\n",
              "    <tr>\n",
              "      <th>9</th>\n",
              "      <td>9</td>\n",
              "      <td>9</td>\n",
              "    </tr>\n",
              "    <tr>\n",
              "      <th>10</th>\n",
              "      <td>0</td>\n",
              "      <td>10</td>\n",
              "    </tr>\n",
              "    <tr>\n",
              "      <th>11</th>\n",
              "      <td>0</td>\n",
              "      <td>11</td>\n",
              "    </tr>\n",
              "    <tr>\n",
              "      <th>12</th>\n",
              "      <td>0</td>\n",
              "      <td>12</td>\n",
              "    </tr>\n",
              "    <tr>\n",
              "      <th>13</th>\n",
              "      <td>0</td>\n",
              "      <td>13</td>\n",
              "    </tr>\n",
              "    <tr>\n",
              "      <th>14</th>\n",
              "      <td>0</td>\n",
              "      <td>14</td>\n",
              "    </tr>\n",
              "    <tr>\n",
              "      <th>15</th>\n",
              "      <td>0</td>\n",
              "      <td>15</td>\n",
              "    </tr>\n",
              "    <tr>\n",
              "      <th>16</th>\n",
              "      <td>0</td>\n",
              "      <td>16</td>\n",
              "    </tr>\n",
              "    <tr>\n",
              "      <th>17</th>\n",
              "      <td>0</td>\n",
              "      <td>17</td>\n",
              "    </tr>\n",
              "    <tr>\n",
              "      <th>18</th>\n",
              "      <td>0</td>\n",
              "      <td>18</td>\n",
              "    </tr>\n",
              "    <tr>\n",
              "      <th>19</th>\n",
              "      <td>0</td>\n",
              "      <td>19</td>\n",
              "    </tr>\n",
              "    <tr>\n",
              "      <th>20</th>\n",
              "      <td>0</td>\n",
              "      <td>20</td>\n",
              "    </tr>\n",
              "    <tr>\n",
              "      <th>21</th>\n",
              "      <td>0</td>\n",
              "      <td>21</td>\n",
              "    </tr>\n",
              "    <tr>\n",
              "      <th>22</th>\n",
              "      <td>0</td>\n",
              "      <td>22</td>\n",
              "    </tr>\n",
              "    <tr>\n",
              "      <th>23</th>\n",
              "      <td>0</td>\n",
              "      <td>23</td>\n",
              "    </tr>\n",
              "    <tr>\n",
              "      <th>24</th>\n",
              "      <td>0</td>\n",
              "      <td>24</td>\n",
              "    </tr>\n",
              "    <tr>\n",
              "      <th>25</th>\n",
              "      <td>0</td>\n",
              "      <td>25</td>\n",
              "    </tr>\n",
              "  </tbody>\n",
              "</table>\n",
              "</div>"
            ],
            "text/plain": [
              "   Series1 Series2\n",
              "0        0       0\n",
              "1        1       1\n",
              "2        2       2\n",
              "3        3       3\n",
              "4        4       4\n",
              "5        5       5\n",
              "6        6       6\n",
              "7        7       7\n",
              "8        8       8\n",
              "9        9       9\n",
              "10       0      10\n",
              "11       0      11\n",
              "12       0      12\n",
              "13       0      13\n",
              "14       0      14\n",
              "15       0      15\n",
              "16       0      16\n",
              "17       0      17\n",
              "18       0      18\n",
              "19       0      19\n",
              "20       0      20\n",
              "21       0      21\n",
              "22       0      22\n",
              "23       0      23\n",
              "24       0      24\n",
              "25       0      25"
            ]
          },
          "metadata": {
            "tags": []
          },
          "execution_count": 108
        }
      ]
    },
    {
      "cell_type": "markdown",
      "metadata": {
        "id": "xnfbFs1hE8QN"
      },
      "source": [
        "**5. Using pandas, write a piece of code to convert the first character of each element in a series to uppercase. Test your code with:** <br>\r\n",
        "*series = pd.Series(['nlp', 'will', 'be', 'easy?'])*"
      ]
    },
    {
      "cell_type": "code",
      "metadata": {
        "colab": {
          "base_uri": "https://localhost:8080/",
          "height": 0
        },
        "id": "iwLIQYCNFEm5",
        "outputId": "72386d58-18a7-44fc-dfa2-2fb5526e74ee"
      },
      "source": [
        "import pandas as pd\r\n",
        "\r\n",
        "series = pd.Series(['nlp', 'will', 'be', 'easy?'])\r\n",
        "\r\n",
        "#Function to uppercase the first character of each element in a series\r\n",
        "def convertFirstCharacterToUpperCase(s):\r\n",
        "\r\n",
        "  for i in range(series.size):\r\n",
        "    #Converts only the first character from an i element to uppercase\r\n",
        "    letterCapitalized = series[i][0].upper()\r\n",
        "    #Then it's concatenated the uppercased letter among with the other leters, except from the starting letter (that's why [1:] is used to ignore the first letter)\r\n",
        "    series[i] = letterCapitalized + series[i][1:]\r\n",
        "\r\n",
        "print(\"\\033[1mOriginal series:\\033[0m \\r\\n\")\r\n",
        "print(series)\r\n",
        "\r\n",
        "#Calls the previous function to uppercase the first character of each element in a series\r\n",
        "convertFirstCharacterToUpperCase(series)\r\n",
        "\r\n",
        "print()\r\n",
        "print(\"\\033[1mSeries with it's first character of each element uppercased:\\033[0m \\r\\n\")\r\n",
        "print(series)"
      ],
      "execution_count": 251,
      "outputs": [
        {
          "output_type": "stream",
          "text": [
            "\u001b[1mOriginal series:\u001b[0m \r\n",
            "\n",
            "0      nlp\n",
            "1     will\n",
            "2       be\n",
            "3    easy?\n",
            "dtype: object\n",
            "\n",
            "\u001b[1mSeries with it's first character of each element uppercased:\u001b[0m \r\n",
            "\n",
            "0      Nlp\n",
            "1     Will\n",
            "2       Be\n",
            "3    Easy?\n",
            "dtype: object\n"
          ],
          "name": "stdout"
        }
      ]
    },
    {
      "cell_type": "markdown",
      "metadata": {
        "id": "v1wDmWaDJAtx"
      },
      "source": [
        "**Bonus: Using pandas, write a piece of code to get the frequency of unique values in the entire dataframe (not using built in functions). Test your code with:** <br>\r\n",
        "*dataFrame = pd.DataFrame(np.random.randint(5, 10, 20).reshape(-1, 4), columns = list('abcd'))*"
      ]
    },
    {
      "cell_type": "code",
      "metadata": {
        "colab": {
          "base_uri": "https://localhost:8080/"
        },
        "id": "EH9xw17UJQVD",
        "outputId": "bbffe258-5263-4e57-b895-59dd056130dc"
      },
      "source": [
        "import pandas as pd\r\n",
        "\r\n",
        "minValue = 5 #@param {type:\"integer\"}\r\n",
        "maxValue = 10 #@param {type:\"integer\"}\r\n",
        "\r\n",
        "dataFrame = pd.DataFrame(np.random.randint(minValue, maxValue, 20).reshape(-1, 4), \r\n",
        "                         columns = list('abcd'))\r\n",
        "\r\n",
        "#Variables to measure the size of the dataframe (cols,rows)\r\n",
        "nRows = len(dataFrame)\r\n",
        "nColumns = len(dataFrame.columns)\r\n",
        "\r\n",
        "#Function to count the frequency of unique values in a given dataframe\r\n",
        "def getFrequencyOfUniqueValues(df):\r\n",
        "\r\n",
        "  #Firstly, we initialize an empty dataframe\r\n",
        "  df_ = pd.DataFrame(columns=['Value','Frequency'])\r\n",
        "\r\n",
        "  #In a nested for loop, we analyze each value from the given dataframe\r\n",
        "  for i in range(nRows):\r\n",
        "    for j in range(nColumns):\r\n",
        "      #Gets a value in i row from j col in the dataframe\r\n",
        "      cellValueTemp = df.iat[i,j]\r\n",
        "\r\n",
        "      #If the value analyzed is still not counted, \r\n",
        "      #it will add a new row with the frequency of 1 (because it's a new row)\r\n",
        "      if (df_.loc[df_['Value'] == cellValueTemp]).empty:\r\n",
        "        df_ = df_.append({'Value': cellValueTemp, 'Frequency':1}, ignore_index=True)\r\n",
        "      #In case the unique value was already counted, in it's frequency value it's added by 1\r\n",
        "      else:\r\n",
        "        indexNumber = (df_.loc[df_['Value'] == cellValueTemp]).index.values.astype(int)[0]\r\n",
        "        df_.loc[indexNumber,'Frequency'] += 1\r\n",
        "\r\n",
        "  return df_\r\n",
        "\r\n",
        "#Results are printed, showing the original dataframe and the frequency of their unique values\r\n",
        "print(\"\\033[1mOriginal Dataframe: \\033[0m \\r\\n\")\r\n",
        "print(dataFrame)\r\n",
        "print()\r\n",
        "print(\"\\033[1mFrequency of Unique Values in DataFrame: \\033[0m \\r\\n\")\r\n",
        "print(getFrequencyOfUniqueValues(dataFrame).to_string(index=False))"
      ],
      "execution_count": 254,
      "outputs": [
        {
          "output_type": "stream",
          "text": [
            "\u001b[1mOriginal Dataframe: \u001b[0m \r\n",
            "\n",
            "   a  b  c  d\n",
            "0  6  9  5  5\n",
            "1  5  9  7  7\n",
            "2  6  9  7  8\n",
            "3  6  7  8  6\n",
            "4  5  5  8  5\n",
            "\n",
            "\u001b[1mFrequency of Unique Values in DataFrame: \u001b[0m \r\n",
            "\n",
            "Value Frequency\n",
            "    6         4\n",
            "    9         3\n",
            "    5         6\n",
            "    7         4\n",
            "    8         3\n"
          ],
          "name": "stdout"
        }
      ]
    }
  ]
}